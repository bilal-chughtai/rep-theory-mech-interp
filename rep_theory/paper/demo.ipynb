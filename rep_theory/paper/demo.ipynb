{
 "cells": [
  {
   "attachments": {},
   "cell_type": "markdown",
   "metadata": {},
   "source": [
    "In this notebook, we will train a network to perform group composition on the abstract group S5, and then reverse engineer the algorithm learned. This notebook should be fairly self contained, and uses similar code to that in the paper. Full code for the paper is available at ..."
   ]
  },
  {
   "attachments": {},
   "cell_type": "markdown",
   "metadata": {},
   "source": [
    "# Setup\n"
   ]
  },
  {
   "cell_type": "code",
   "execution_count": 8,
   "metadata": {},
   "outputs": [],
   "source": [
    "# Imports\n",
    "import os\n",
    "if \"cd\" not in globals():\n",
    "    os.chdir(\"../\")\n",
    "    cd = True\n",
    "import torch\n",
    "import torch.nn as nn\n",
    "import numpy as np\n",
    "import math\n",
    "from tqdm import tqdm\n",
    "from transformer_lens.hook_points import HookPoint, HookedRootModule\n",
    "from sympy.combinatorics.named_groups import SymmetricGroup as SymPySymmetricGroup\n",
    "from sympy.combinatorics import Permutation, PermutationGroup\n",
    "from utils.plotting import *"
   ]
  },
  {
   "cell_type": "code",
   "execution_count": 9,
   "metadata": {},
   "outputs": [],
   "source": [
    "SEED = 2"
   ]
  },
  {
   "attachments": {},
   "cell_type": "markdown",
   "metadata": {},
   "source": [
    "Let's first create a class to contain all the information about our group. We include methods \n",
    "* to convert between permutations and their indices that we use to one-hot-encode them. \n",
    "* to compose permutations, based on their index\n",
    "* to calculate the order of a permutation\n",
    "* to calculate the signature of a permutation\n",
    "* to cache all signatures of the group elements\n",
    "* to calculate the inverse of a permutation\n",
    "* to cache all inverses of group elements\n",
    "* to calculate the full multiplication table of the group\n",
    "* to return all pairs of permutations, and their product"
   ]
  },
  {
   "cell_type": "code",
   "execution_count": 10,
   "metadata": {},
   "outputs": [],
   "source": [
    "class SymmetricGroup():\n",
    "    \"\"\"\n",
    "    Class for the symmetric group of order index.\n",
    "    \"\"\"\n",
    "    def __init__(self, index, init_all=False):\n",
    "        \"\"\"\n",
    "        Initialise the group. Optionally calculate all other tensors needed to track metrics.\n",
    "\n",
    "        Args:\n",
    "            index (int): Index of group in family of symmetric groups.\n",
    "            init_all (bool, optional): If false, only calculate what is required to train. If true, calculate all other tensors needed to track metrics. Defaults to False.\n",
    "        \"\"\"\n",
    "\n",
    "        # build class on top of sympy\n",
    "        self.G = SymPySymmetricGroup(index)\n",
    "        self.index = index\n",
    "        self.order = math.factorial(index)\n",
    "        self.acronym = 'S'\n",
    "        self.multiplication_table = self.compute_multiplication_table()\n",
    "        \n",
    "        # hacky method to find the index of the identity element \n",
    "        self.identity = [i for i in range(self.order) if self.idx_to_perm(i).order() == 1][0]\n",
    "        \n",
    "        self.inverses = self.compute_inverses()\n",
    "\n",
    "        # compute the signatures of the elements\n",
    "        self.signatures = self.compute_signatures()\n",
    "\n",
    "        self.all_data, _ = self.get_all_data()\n",
    "        self.all_data = self.all_data[:, :2]\n",
    "\n",
    "\n",
    "    def idx_to_perm(self, x):\n",
    "        \"\"\"\n",
    "        Convert an index to a permutation.\n",
    "\n",
    "        Args:\n",
    "            x (int): index of element in group\n",
    "\n",
    "        Returns:\n",
    "            Permutation: permutation object from sympy\n",
    "        \"\"\"\n",
    "        return self.G._elements[x]\n",
    "\n",
    "    def perm_to_idx(self, perm):\n",
    "        \"\"\"\n",
    "        Converts a permutation to an index.\n",
    "\n",
    "        Args:\n",
    "            perm (Permutation): permutation object from sympy\n",
    "\n",
    "        Returns:\n",
    "            int: index of element in group\n",
    "        \"\"\"\n",
    "        return self.G._elements.index(perm)\n",
    "\n",
    "    def compose(self, x, y):\n",
    "        \"\"\"\n",
    "        Compose elements of the group by converting to permutations, composing, and converting back.\n",
    "\n",
    "        Args:\n",
    "            x (int): left index\n",
    "            y (int): right index\n",
    "\n",
    "        Returns:\n",
    "            int: index of composition\n",
    "        \"\"\"\n",
    "        return self.perm_to_idx(self.idx_to_perm(x) * self.idx_to_perm(y))\n",
    "\n",
    "    def perm_order(self, x):\n",
    "        \"\"\"\n",
    "        Gets the order of a permutation.\n",
    "\n",
    "        Args:\n",
    "            x (int): index of element\n",
    "\n",
    "        Returns:\n",
    "            int: order of permutation\n",
    "        \"\"\"\n",
    "        return self.idx_to_perm(x).order()\n",
    "\n",
    "    def signature(self, x):\n",
    "        \"\"\"\n",
    "        Gets the signature of a permutation.\n",
    "\n",
    "        Args:\n",
    "            x (int): index of element\n",
    "\n",
    "        Returns:\n",
    "            int: Integer \\in {0, 1} representing the signature of the permutation.\n",
    "        \"\"\"\n",
    "        return self.idx_to_perm(x).signature()\n",
    "    \n",
    "    def compute_signatures(self):\n",
    "        \"\"\"\n",
    "        Compute and store the signature of each element in the group.\n",
    "\n",
    "        Returns:\n",
    "            torch.tensor: tensor of signatures\n",
    "        \"\"\"\n",
    "        signatures = torch.tensor([self.signature(i) for i in range(self.order)]).cuda()\n",
    "        return signatures\n",
    "    \n",
    "    def inverse(self, x):\n",
    "        \"\"\"\n",
    "        Compute the inverse of an element of the group.\n",
    "\n",
    "        Args:\n",
    "            x (int): Index of element to inverse\n",
    "\n",
    "        Returns:\n",
    "            int: Index of inverse element\n",
    "        \"\"\"\n",
    "        return (self.multiplication_table[x, :] == self.identity).nonzero().item()\n",
    "\n",
    "    def compute_inverses(self):\n",
    "        inverses = torch.zeros(self.order, dtype=torch.int64)\n",
    "        for i in range(self.order):\n",
    "            inverses[i] = self.inverse(i)\n",
    "        return inverses\n",
    "    \n",
    "    def compute_multiplication_table(self):\n",
    "        \"\"\"\n",
    "        Compute the multiplication table of the group. Caches/loads from file if possible.\n",
    "        \"\"\"\n",
    "        print('Computing multiplication table...')\n",
    "        table = torch.zeros((self.order, self.order), dtype=torch.int64).cuda()\n",
    "        for i in tqdm(range(self.order)):\n",
    "            for j in range(self.order):\n",
    "                table[i, j] = self.compose(i, j)\n",
    "        return table\n",
    "\n",
    "    def get_all_data(self, shuffle_seed=False):\n",
    "        \"\"\"\n",
    "        Get's all data and labels for the pairwise composition task.\n",
    "\n",
    "        Args:\n",
    "            shuffle_seed (bool, optional): Shuffle data for training. Defaults to False.\n",
    "\n",
    "        Returns:\n",
    "            torch.tensor: Tensor of shape (order*order, 3) where each row is (x, y, x*y).\n",
    "        \"\"\"\n",
    "        data=torch.zeros((self.order*self.order, 3), dtype=torch.int64)\n",
    "        shuffled_indices = None\n",
    "        for i in range(self.order):\n",
    "            for j in range(self.order):\n",
    "                data[i*self.order+j, 0] = i\n",
    "                data[i*self.order+j, 1] = j\n",
    "                data[i*self.order+j, 2] = self.multiplication_table[i, j]\n",
    "        if shuffle_seed:\n",
    "            torch.manual_seed(shuffle_seed) \n",
    "            shuffled_indices = torch.randperm(self.order*self.order)\n",
    "            data = data[shuffled_indices]\n",
    "        return data.cuda(), shuffled_indices"
   ]
  },
  {
   "cell_type": "code",
   "execution_count": 11,
   "metadata": {},
   "outputs": [
    {
     "name": "stdout",
     "output_type": "stream",
     "text": [
      "Computing multiplication table...\n"
     ]
    },
    {
     "name": "stderr",
     "output_type": "stream",
     "text": [
      "100%|██████████| 120/120 [00:14<00:00,  8.42it/s]\n"
     ]
    }
   ],
   "source": [
    "group = SymmetricGroup(5)"
   ]
  },
  {
   "attachments": {},
   "cell_type": "markdown",
   "metadata": {},
   "source": [
    "The model architecture is an MLP as described in the paper. We subclass the HookedRootModule class from the transformer_lens library to easily cache activations on the forward pass."
   ]
  },
  {
   "cell_type": "code",
   "execution_count": 12,
   "metadata": {},
   "outputs": [],
   "source": [
    "model_cfg = {    \n",
    "    \"layers\": {\n",
    "        \"embed_dim\": 256,\n",
    "        \"hidden_dim\": 128\n",
    "    }\n",
    "}\n",
    "\n",
    "class OneLayerMLP(HookedRootModule):\n",
    "    \"\"\" \n",
    "    A one layer MLP. W_x and W_y are embedding layers, whose outputs are concatenated and fed into a hidden layer. The result is unembedded by W_U.\n",
    "    \"\"\"\n",
    "    def __init__(self, layers, n, seed=0):\n",
    "        # embed_dim: dimension of the embedding\n",
    "        # hidden : hidden dimension size\n",
    "        # n : group order\n",
    "        super().__init__()\n",
    "        torch.manual_seed(seed)\n",
    "\n",
    "        self.embed_dim = layers['embed_dim']\n",
    "        hidden = layers['hidden_dim']\n",
    "\n",
    "        # xavier initialise parameters\n",
    "        self.W_x = nn.Parameter(torch.randn(n, self.embed_dim)/np.sqrt(self.embed_dim))\n",
    "        self.W_y = nn.Parameter(torch.randn(n, self.embed_dim)/np.sqrt(self.embed_dim))\n",
    "        self.W = nn.Parameter(torch.randn(2*self.embed_dim, hidden)/np.sqrt(2*self.embed_dim))\n",
    "        self.relu = nn.ReLU()\n",
    "        self.W_U = nn.Parameter(torch.randn(hidden, n)/np.sqrt(hidden))\n",
    "\n",
    "        # hookpoints\n",
    "        self.embed_stack = HookPoint()\n",
    "        self.hidden = HookPoint()\n",
    "\n",
    "        # We need to call the setup function of HookedRootModule to build an \n",
    "        # internal dictionary of modules and hooks, and to give each hook a name\n",
    "        super().setup()\n",
    "\n",
    "    def forward(self, data):\n",
    "        x = data[:, 0] # (batch)\n",
    "        half_x_embed = self.W_x[x] # (batch, embed_dim)\n",
    "        y = data[:, 1] # (batch)\n",
    "        half_y_embed = self.W_y[y] # (batch, embed_dim)\n",
    "        embed_stack = self.embed_stack(torch.hstack((half_x_embed, half_y_embed))) # (batch, 2*embed_dim)\n",
    "        hidden = self.hidden(self.relu(embed_stack @ self.W)) # (batch, hidden)\n",
    "        out = hidden @ self.W_U # (batch, n)\n",
    "        return out\n",
    "\n",
    "def loss_fn(logits, labels):\n",
    "    logits = logits.to(torch.float64)\n",
    "    log_probs = logits.log_softmax(dim=-1)\n",
    "    correct_log_probs = log_probs.gather(dim=-1, index=labels[:, None])[:, 0]\n",
    "    return -correct_log_probs.mean()\n",
    "\n",
    "def get_accuracy(logits, labels):\n",
    "    \"\"\"\n",
    "    Compute accuracy of model.\n",
    "\n",
    "    Args:\n",
    "        logits (torch.tensor): (batch, group.order) tensor of logits\n",
    "        labels (torch.tensor): (batch) tensor of labels\n",
    "\n",
    "    Returns:\n",
    "        float: accuracy\n",
    "    \"\"\"\n",
    "    return ((logits.argmax(1)==labels).sum()/len(labels)).item()\n",
    "\n",
    "model = OneLayerMLP(model_cfg['layers'], group.order).cuda()"
   ]
  },
  {
   "attachments": {},
   "cell_type": "markdown",
   "metadata": {},
   "source": [
    "To generate our train/test split, we just take a fixed proportion of the entire multiplication table of the group at random. We'll use a ratio of 0.4 here."
   ]
  },
  {
   "cell_type": "code",
   "execution_count": 13,
   "metadata": {},
   "outputs": [],
   "source": [
    "def generate_train_test_data(group, frac_train, seed=False):\n",
    "    \"\"\"\n",
    "    Generate train and test data from a group's all data.\n",
    "    \"\"\"\n",
    "    data, shuffled_indices = group.get_all_data(seed)\n",
    "    train_size = int(frac_train*data.shape[0])\n",
    "    train = data[:train_size]\n",
    "    test = data[train_size:]\n",
    "    train_data = train[:, :2]\n",
    "    train_labels = train[:, 2]\n",
    "    test_data = test[:, :2]\n",
    "    test_labels = test[:, 2]\n",
    "    return train_data, test_data, train_labels, test_labels, shuffled_indices\n",
    "\n"
   ]
  },
  {
   "attachments": {},
   "cell_type": "markdown",
   "metadata": {},
   "source": [
    "# Training"
   ]
  },
  {
   "cell_type": "code",
   "execution_count": 14,
   "metadata": {},
   "outputs": [],
   "source": [
    "training_cfg = {\n",
    "    \"lr\": 0.001,\n",
    "    \"betas\": (0.9, 0.98),\n",
    "    \"weight_decay\": 1,\n",
    "    \"num_epochs\": 75000,\n",
    "    \"frac_train\": 0.4,\n",
    "}\n",
    "train_data, test_data, train_labels, test_labels, shuffled_indices = generate_train_test_data(group, training_cfg[\"frac_train\"], seed=SEED)\n",
    "optimizer = torch.optim.AdamW(model.parameters(), lr=training_cfg[\"lr\"], betas=training_cfg[\"betas\"], weight_decay=training_cfg[\"weight_decay\"])"
   ]
  },
  {
   "cell_type": "code",
   "execution_count": 15,
   "metadata": {},
   "outputs": [
    {
     "name": "stdout",
     "output_type": "stream",
     "text": [
      "tensor([[ 65,  48],\n",
      "        [ 85,  94],\n",
      "        [104,  89],\n",
      "        ...,\n",
      "        [ 92,  13],\n",
      "        [ 75,  94],\n",
      "        [  7,  80]], device='cuda:0')\n"
     ]
    }
   ],
   "source": [
    "print(train_data)"
   ]
  },
  {
   "cell_type": "code",
   "execution_count": 16,
   "metadata": {},
   "outputs": [
    {
     "name": "stderr",
     "output_type": "stream",
     "text": [
      "  0%|          | 50/75000 [00:00<09:03, 137.93it/s]"
     ]
    },
    {
     "name": "stdout",
     "output_type": "stream",
     "text": [
      "Epoch 0: Train Loss: 4.788640449718693, Test Loss: 4.789846160721121, Train Accuracy: 0.008854166604578495, Test Accuracy: 0.007986110635101795\n"
     ]
    },
    {
     "name": "stderr",
     "output_type": "stream",
     "text": [
      "  1%|▏         | 1084/75000 [00:02<02:32, 486.01it/s]"
     ]
    },
    {
     "name": "stdout",
     "output_type": "stream",
     "text": [
      "Epoch 1000: Train Loss: 0.0014230852654155432, Test Loss: 31.025889312314813, Train Accuracy: 1.0, Test Accuracy: 0.00023148147738538682\n"
     ]
    },
    {
     "name": "stderr",
     "output_type": "stream",
     "text": [
      "  3%|▎         | 2070/75000 [00:04<02:26, 497.34it/s]"
     ]
    },
    {
     "name": "stdout",
     "output_type": "stream",
     "text": [
      "Epoch 2000: Train Loss: 1.0371127345550383e-05, Test Loss: 42.32135782920235, Train Accuracy: 1.0, Test Accuracy: 0.00023148147738538682\n"
     ]
    },
    {
     "name": "stderr",
     "output_type": "stream",
     "text": [
      "  4%|▍         | 3090/75000 [00:06<02:23, 502.58it/s]"
     ]
    },
    {
     "name": "stdout",
     "output_type": "stream",
     "text": [
      "Epoch 3000: Train Loss: 9.28916789346865e-06, Test Loss: 39.74175323113012, Train Accuracy: 1.0, Test Accuracy: 0.000347222201526165\n"
     ]
    },
    {
     "name": "stderr",
     "output_type": "stream",
     "text": [
      "  5%|▌         | 4059/75000 [00:08<02:21, 502.92it/s]"
     ]
    },
    {
     "name": "stdout",
     "output_type": "stream",
     "text": [
      "Epoch 4000: Train Loss: 9.027984962200929e-06, Test Loss: 37.979951976766685, Train Accuracy: 1.0, Test Accuracy: 0.00046296295477077365\n"
     ]
    },
    {
     "name": "stderr",
     "output_type": "stream",
     "text": [
      "  7%|▋         | 5069/75000 [00:10<02:19, 500.19it/s]"
     ]
    },
    {
     "name": "stdout",
     "output_type": "stream",
     "text": [
      "Epoch 5000: Train Loss: 8.843711821515795e-06, Test Loss: 36.75291020285111, Train Accuracy: 1.0, Test Accuracy: 0.0005787037080153823\n"
     ]
    },
    {
     "name": "stderr",
     "output_type": "stream",
     "text": [
      "  8%|▊         | 6089/75000 [00:12<02:17, 502.97it/s]"
     ]
    },
    {
     "name": "stdout",
     "output_type": "stream",
     "text": [
      "Epoch 6000: Train Loss: 8.713580143243848e-06, Test Loss: 35.90106414693857, Train Accuracy: 1.0, Test Accuracy: 0.00069444440305233\n"
     ]
    },
    {
     "name": "stderr",
     "output_type": "stream",
     "text": [
      "  9%|▉         | 7058/75000 [00:14<02:15, 500.10it/s]"
     ]
    },
    {
     "name": "stdout",
     "output_type": "stream",
     "text": [
      "Epoch 7000: Train Loss: 8.605533626326864e-06, Test Loss: 35.235500056005996, Train Accuracy: 1.0, Test Accuracy: 0.00069444440305233\n"
     ]
    },
    {
     "name": "stderr",
     "output_type": "stream",
     "text": [
      " 11%|█         | 8078/75000 [00:16<02:13, 500.30it/s]"
     ]
    },
    {
     "name": "stdout",
     "output_type": "stream",
     "text": [
      "Epoch 8000: Train Loss: 8.513514004822296e-06, Test Loss: 34.65525806014785, Train Accuracy: 1.0, Test Accuracy: 0.00069444440305233\n"
     ]
    },
    {
     "name": "stderr",
     "output_type": "stream",
     "text": [
      " 12%|█▏        | 9098/75000 [00:18<02:11, 500.39it/s]"
     ]
    },
    {
     "name": "stdout",
     "output_type": "stream",
     "text": [
      "Epoch 9000: Train Loss: 8.430327062914028e-06, Test Loss: 34.144935524117926, Train Accuracy: 1.0, Test Accuracy: 0.0009259259095415473\n"
     ]
    },
    {
     "name": "stderr",
     "output_type": "stream",
     "text": [
      " 13%|█▎        | 10063/75000 [00:20<02:10, 498.73it/s]"
     ]
    },
    {
     "name": "stdout",
     "output_type": "stream",
     "text": [
      "Epoch 10000: Train Loss: 8.363853707070644e-06, Test Loss: 33.728746871927584, Train Accuracy: 1.0, Test Accuracy: 0.001041666604578495\n"
     ]
    },
    {
     "name": "stderr",
     "output_type": "stream",
     "text": [
      " 15%|█▍        | 11080/75000 [00:22<02:06, 503.32it/s]"
     ]
    },
    {
     "name": "stdout",
     "output_type": "stream",
     "text": [
      "Epoch 11000: Train Loss: 8.30144133616486e-06, Test Loss: 33.36465937707598, Train Accuracy: 1.0, Test Accuracy: 0.0009259259095415473\n"
     ]
    },
    {
     "name": "stderr",
     "output_type": "stream",
     "text": [
      " 16%|█▌        | 12100/75000 [00:24<02:05, 501.56it/s]"
     ]
    },
    {
     "name": "stdout",
     "output_type": "stream",
     "text": [
      "Epoch 12000: Train Loss: 8.237403655008239e-06, Test Loss: 33.042006361873064, Train Accuracy: 1.0, Test Accuracy: 0.0009259259095415473\n"
     ]
    },
    {
     "name": "stderr",
     "output_type": "stream",
     "text": [
      " 17%|█▋        | 13047/75000 [00:26<02:19, 444.23it/s]"
     ]
    },
    {
     "name": "stdout",
     "output_type": "stream",
     "text": [
      "Epoch 13000: Train Loss: 8.174784670199603e-06, Test Loss: 32.73591884208349, Train Accuracy: 1.0, Test Accuracy: 0.0009259259095415473\n"
     ]
    },
    {
     "name": "stderr",
     "output_type": "stream",
     "text": [
      " 19%|█▉        | 14090/75000 [00:29<02:15, 448.83it/s]"
     ]
    },
    {
     "name": "stdout",
     "output_type": "stream",
     "text": [
      "Epoch 14000: Train Loss: 8.126368153885452e-06, Test Loss: 32.454488264784196, Train Accuracy: 1.0, Test Accuracy: 0.0008101851562969387\n"
     ]
    },
    {
     "name": "stderr",
     "output_type": "stream",
     "text": [
      " 20%|██        | 15096/75000 [00:31<01:59, 501.91it/s]"
     ]
    },
    {
     "name": "stdout",
     "output_type": "stream",
     "text": [
      "Epoch 15000: Train Loss: 8.076891728273977e-06, Test Loss: 32.183694283909034, Train Accuracy: 1.0, Test Accuracy: 0.00069444440305233\n"
     ]
    },
    {
     "name": "stderr",
     "output_type": "stream",
     "text": [
      " 21%|██▏       | 16065/75000 [00:33<01:57, 502.41it/s]"
     ]
    },
    {
     "name": "stdout",
     "output_type": "stream",
     "text": [
      "Epoch 16000: Train Loss: 8.03142297004289e-06, Test Loss: 31.877598700000124, Train Accuracy: 1.0, Test Accuracy: 0.0008101851562969387\n"
     ]
    },
    {
     "name": "stderr",
     "output_type": "stream",
     "text": [
      " 23%|██▎       | 17085/75000 [00:35<01:55, 503.15it/s]"
     ]
    },
    {
     "name": "stdout",
     "output_type": "stream",
     "text": [
      "Epoch 17000: Train Loss: 7.985882949788269e-06, Test Loss: 31.588083174209576, Train Accuracy: 1.0, Test Accuracy: 0.0009259259095415473\n"
     ]
    },
    {
     "name": "stderr",
     "output_type": "stream",
     "text": [
      " 24%|██▍       | 18101/75000 [00:37<01:54, 499.01it/s]"
     ]
    },
    {
     "name": "stdout",
     "output_type": "stream",
     "text": [
      "Epoch 18000: Train Loss: 7.942705801747821e-06, Test Loss: 31.300450615126945, Train Accuracy: 1.0, Test Accuracy: 0.001041666604578495\n"
     ]
    },
    {
     "name": "stderr",
     "output_type": "stream",
     "text": [
      " 25%|██▌       | 19069/75000 [00:39<01:51, 499.60it/s]"
     ]
    },
    {
     "name": "stdout",
     "output_type": "stream",
     "text": [
      "Epoch 19000: Train Loss: 7.902100509987374e-06, Test Loss: 31.071757274844458, Train Accuracy: 1.0, Test Accuracy: 0.0011574074160307646\n"
     ]
    },
    {
     "name": "stderr",
     "output_type": "stream",
     "text": [
      " 27%|██▋       | 20081/75000 [00:41<01:49, 503.00it/s]"
     ]
    },
    {
     "name": "stdout",
     "output_type": "stream",
     "text": [
      "Epoch 20000: Train Loss: 7.866609099229755e-06, Test Loss: 30.825448419846026, Train Accuracy: 1.0, Test Accuracy: 0.001041666604578495\n"
     ]
    },
    {
     "name": "stderr",
     "output_type": "stream",
     "text": [
      " 28%|██▊       | 21090/75000 [00:43<01:59, 451.56it/s]"
     ]
    },
    {
     "name": "stdout",
     "output_type": "stream",
     "text": [
      "Epoch 21000: Train Loss: 7.832928618637219e-06, Test Loss: 30.57406529479693, Train Accuracy: 1.0, Test Accuracy: 0.0011574074160307646\n"
     ]
    },
    {
     "name": "stderr",
     "output_type": "stream",
     "text": [
      " 29%|██▉       | 22098/75000 [00:45<01:46, 498.11it/s]"
     ]
    },
    {
     "name": "stdout",
     "output_type": "stream",
     "text": [
      "Epoch 22000: Train Loss: 7.801011500145634e-06, Test Loss: 30.32559158391679, Train Accuracy: 1.0, Test Accuracy: 0.001041666604578495\n"
     ]
    },
    {
     "name": "stderr",
     "output_type": "stream",
     "text": [
      " 31%|███       | 23061/75000 [00:47<01:43, 499.64it/s]"
     ]
    },
    {
     "name": "stdout",
     "output_type": "stream",
     "text": [
      "Epoch 23000: Train Loss: 7.76612875167956e-06, Test Loss: 30.067768782116268, Train Accuracy: 1.0, Test Accuracy: 0.001041666604578495\n"
     ]
    },
    {
     "name": "stderr",
     "output_type": "stream",
     "text": [
      " 32%|███▏      | 24080/75000 [00:49<01:41, 500.74it/s]"
     ]
    },
    {
     "name": "stdout",
     "output_type": "stream",
     "text": [
      "Epoch 24000: Train Loss: 7.730398161195362e-06, Test Loss: 29.786146012719477, Train Accuracy: 1.0, Test Accuracy: 0.00138888880610466\n"
     ]
    },
    {
     "name": "stderr",
     "output_type": "stream",
     "text": [
      " 33%|███▎      | 25100/75000 [00:51<01:39, 500.87it/s]"
     ]
    },
    {
     "name": "stdout",
     "output_type": "stream",
     "text": [
      "Epoch 25000: Train Loss: 7.697242767052906e-06, Test Loss: 29.493918591238668, Train Accuracy: 1.0, Test Accuracy: 0.0011574074160307646\n"
     ]
    },
    {
     "name": "stderr",
     "output_type": "stream",
     "text": [
      " 35%|███▍      | 26069/75000 [00:53<01:37, 500.54it/s]"
     ]
    },
    {
     "name": "stdout",
     "output_type": "stream",
     "text": [
      "Epoch 26000: Train Loss: 7.65714235115075e-06, Test Loss: 29.166109643467536, Train Accuracy: 1.0, Test Accuracy: 0.001041666604578495\n"
     ]
    },
    {
     "name": "stderr",
     "output_type": "stream",
     "text": [
      " 36%|███▌      | 27084/75000 [00:55<01:36, 498.40it/s]"
     ]
    },
    {
     "name": "stdout",
     "output_type": "stream",
     "text": [
      "Epoch 27000: Train Loss: 7.6153467795990345e-06, Test Loss: 28.831969611141492, Train Accuracy: 1.0, Test Accuracy: 0.001041666604578495\n"
     ]
    },
    {
     "name": "stderr",
     "output_type": "stream",
     "text": [
      " 37%|███▋      | 28097/75000 [00:57<01:33, 499.94it/s]"
     ]
    },
    {
     "name": "stdout",
     "output_type": "stream",
     "text": [
      "Epoch 28000: Train Loss: 7.566795523489502e-06, Test Loss: 28.46175553196621, Train Accuracy: 1.0, Test Accuracy: 0.001041666604578495\n"
     ]
    },
    {
     "name": "stderr",
     "output_type": "stream",
     "text": [
      " 39%|███▊      | 29059/75000 [00:59<01:31, 499.62it/s]"
     ]
    },
    {
     "name": "stdout",
     "output_type": "stream",
     "text": [
      "Epoch 29000: Train Loss: 7.524803465351525e-06, Test Loss: 28.06147039609432, Train Accuracy: 1.0, Test Accuracy: 0.0011574074160307646\n"
     ]
    },
    {
     "name": "stderr",
     "output_type": "stream",
     "text": [
      " 40%|████      | 30078/75000 [01:01<01:29, 501.77it/s]"
     ]
    },
    {
     "name": "stdout",
     "output_type": "stream",
     "text": [
      "Epoch 30000: Train Loss: 7.492317728010532e-06, Test Loss: 27.74509806970608, Train Accuracy: 1.0, Test Accuracy: 0.0012731481110677123\n"
     ]
    },
    {
     "name": "stderr",
     "output_type": "stream",
     "text": [
      " 41%|████▏     | 31098/75000 [01:03<01:27, 502.28it/s]"
     ]
    },
    {
     "name": "stdout",
     "output_type": "stream",
     "text": [
      "Epoch 31000: Train Loss: 7.461456200378397e-06, Test Loss: 27.464479134413967, Train Accuracy: 1.0, Test Accuracy: 0.0011574074160307646\n"
     ]
    },
    {
     "name": "stderr",
     "output_type": "stream",
     "text": [
      " 43%|████▎     | 32067/75000 [01:05<01:25, 501.62it/s]"
     ]
    },
    {
     "name": "stdout",
     "output_type": "stream",
     "text": [
      "Epoch 32000: Train Loss: 7.425241405011563e-06, Test Loss: 27.2185777159789, Train Accuracy: 1.0, Test Accuracy: 0.0017361111240461469\n"
     ]
    },
    {
     "name": "stderr",
     "output_type": "stream",
     "text": [
      " 44%|████▍     | 33086/75000 [01:07<01:23, 501.74it/s]"
     ]
    },
    {
     "name": "stdout",
     "output_type": "stream",
     "text": [
      "Epoch 33000: Train Loss: 7.392358659557805e-06, Test Loss: 26.975435239425646, Train Accuracy: 1.0, Test Accuracy: 0.001967592630535364\n"
     ]
    },
    {
     "name": "stderr",
     "output_type": "stream",
     "text": [
      " 45%|████▌     | 34055/75000 [01:09<01:21, 502.13it/s]"
     ]
    },
    {
     "name": "stdout",
     "output_type": "stream",
     "text": [
      "Epoch 34000: Train Loss: 7.363923512458337e-06, Test Loss: 26.73794948917406, Train Accuracy: 1.0, Test Accuracy: 0.002314814832061529\n"
     ]
    },
    {
     "name": "stderr",
     "output_type": "stream",
     "text": [
      " 47%|████▋     | 35075/75000 [01:11<01:19, 502.54it/s]"
     ]
    },
    {
     "name": "stdout",
     "output_type": "stream",
     "text": [
      "Epoch 35000: Train Loss: 7.309714471480002e-06, Test Loss: 26.37225088949308, Train Accuracy: 1.0, Test Accuracy: 0.00277777761220932\n"
     ]
    },
    {
     "name": "stderr",
     "output_type": "stream",
     "text": [
      " 48%|████▊     | 36095/75000 [01:13<01:17, 500.96it/s]"
     ]
    },
    {
     "name": "stdout",
     "output_type": "stream",
     "text": [
      "Epoch 36000: Train Loss: 7.264856044341571e-06, Test Loss: 25.98035746159736, Train Accuracy: 1.0, Test Accuracy: 0.003935185261070728\n"
     ]
    },
    {
     "name": "stderr",
     "output_type": "stream",
     "text": [
      " 49%|████▉     | 37050/75000 [01:15<01:22, 458.46it/s]"
     ]
    },
    {
     "name": "stdout",
     "output_type": "stream",
     "text": [
      "Epoch 37000: Train Loss: 7.232683014535503e-06, Test Loss: 25.5770855410318, Train Accuracy: 1.0, Test Accuracy: 0.003935185261070728\n"
     ]
    },
    {
     "name": "stderr",
     "output_type": "stream",
     "text": [
      " 51%|█████     | 38050/75000 [01:17<01:23, 442.95it/s]"
     ]
    },
    {
     "name": "stdout",
     "output_type": "stream",
     "text": [
      "Epoch 38000: Train Loss: 7.188941963345562e-06, Test Loss: 25.172942494121965, Train Accuracy: 1.0, Test Accuracy: 0.00416666641831398\n"
     ]
    },
    {
     "name": "stderr",
     "output_type": "stream",
     "text": [
      " 52%|█████▏    | 39087/75000 [01:19<01:21, 443.18it/s]"
     ]
    },
    {
     "name": "stdout",
     "output_type": "stream",
     "text": [
      "Epoch 39000: Train Loss: 7.141047773126178e-06, Test Loss: 24.769493756876546, Train Accuracy: 1.0, Test Accuracy: 0.00486111082136631\n"
     ]
    },
    {
     "name": "stderr",
     "output_type": "stream",
     "text": [
      " 53%|█████▎    | 40084/75000 [01:22<01:17, 448.76it/s]"
     ]
    },
    {
     "name": "stdout",
     "output_type": "stream",
     "text": [
      "Epoch 40000: Train Loss: 7.092052074271086e-06, Test Loss: 24.308201922805644, Train Accuracy: 1.0, Test Accuracy: 0.004398148041218519\n"
     ]
    },
    {
     "name": "stderr",
     "output_type": "stream",
     "text": [
      " 55%|█████▍    | 41087/75000 [01:24<01:14, 452.50it/s]"
     ]
    },
    {
     "name": "stdout",
     "output_type": "stream",
     "text": [
      "Epoch 41000: Train Loss: 7.040348210478575e-06, Test Loss: 23.848055355144385, Train Accuracy: 1.0, Test Accuracy: 0.005208333022892475\n"
     ]
    },
    {
     "name": "stderr",
     "output_type": "stream",
     "text": [
      " 56%|█████▌    | 42087/75000 [01:26<01:14, 444.63it/s]"
     ]
    },
    {
     "name": "stdout",
     "output_type": "stream",
     "text": [
      "Epoch 42000: Train Loss: 6.976306592459694e-06, Test Loss: 23.37419637600757, Train Accuracy: 1.0, Test Accuracy: 0.005787036847323179\n"
     ]
    },
    {
     "name": "stderr",
     "output_type": "stream",
     "text": [
      " 57%|█████▋    | 43087/75000 [01:28<01:04, 495.85it/s]"
     ]
    },
    {
     "name": "stdout",
     "output_type": "stream",
     "text": [
      "Epoch 43000: Train Loss: 6.912835748887075e-06, Test Loss: 22.88790642861647, Train Accuracy: 1.0, Test Accuracy: 0.005671296268701553\n"
     ]
    },
    {
     "name": "stderr",
     "output_type": "stream",
     "text": [
      " 59%|█████▉    | 44098/75000 [01:30<01:01, 502.51it/s]"
     ]
    },
    {
     "name": "stdout",
     "output_type": "stream",
     "text": [
      "Epoch 44000: Train Loss: 6.861945306670228e-06, Test Loss: 22.451284704347913, Train Accuracy: 1.0, Test Accuracy: 0.00555555522441864\n"
     ]
    },
    {
     "name": "stderr",
     "output_type": "stream",
     "text": [
      " 60%|██████    | 45061/75000 [01:32<01:00, 491.52it/s]"
     ]
    },
    {
     "name": "stdout",
     "output_type": "stream",
     "text": [
      "Epoch 45000: Train Loss: 6.7342440650079595e-06, Test Loss: 21.829569588717305, Train Accuracy: 1.0, Test Accuracy: 0.006018518470227718\n"
     ]
    },
    {
     "name": "stderr",
     "output_type": "stream",
     "text": [
      " 61%|██████▏   | 46074/75000 [01:34<00:57, 500.80it/s]"
     ]
    },
    {
     "name": "stdout",
     "output_type": "stream",
     "text": [
      "Epoch 46000: Train Loss: 6.414317237825353e-06, Test Loss: 19.575365906353877, Train Accuracy: 1.0, Test Accuracy: 0.010532407090067863\n"
     ]
    },
    {
     "name": "stderr",
     "output_type": "stream",
     "text": [
      " 63%|██████▎   | 47085/75000 [01:36<01:02, 446.86it/s]"
     ]
    },
    {
     "name": "stdout",
     "output_type": "stream",
     "text": [
      "Epoch 47000: Train Loss: 6.343124420598653e-06, Test Loss: 18.95071475322166, Train Accuracy: 1.0, Test Accuracy: 0.011805555783212185\n"
     ]
    },
    {
     "name": "stderr",
     "output_type": "stream",
     "text": [
      " 64%|██████▍   | 48046/75000 [01:38<01:00, 442.91it/s]"
     ]
    },
    {
     "name": "stdout",
     "output_type": "stream",
     "text": [
      "Epoch 48000: Train Loss: 6.2874606028192515e-06, Test Loss: 18.567742582969146, Train Accuracy: 1.0, Test Accuracy: 0.012615740299224854\n"
     ]
    },
    {
     "name": "stderr",
     "output_type": "stream",
     "text": [
      " 65%|██████▌   | 49070/75000 [01:41<00:51, 499.52it/s]"
     ]
    },
    {
     "name": "stdout",
     "output_type": "stream",
     "text": [
      "Epoch 49000: Train Loss: 6.23843281761228e-06, Test Loss: 18.23249668670641, Train Accuracy: 1.0, Test Accuracy: 0.01354166679084301\n"
     ]
    },
    {
     "name": "stderr",
     "output_type": "stream",
     "text": [
      " 67%|██████▋   | 50086/75000 [01:43<00:50, 496.21it/s]"
     ]
    },
    {
     "name": "stdout",
     "output_type": "stream",
     "text": [
      "Epoch 50000: Train Loss: 6.193474432257247e-06, Test Loss: 17.922258976232744, Train Accuracy: 1.0, Test Accuracy: 0.01597222127020359\n"
     ]
    },
    {
     "name": "stderr",
     "output_type": "stream",
     "text": [
      " 68%|██████▊   | 51054/75000 [01:45<00:47, 502.19it/s]"
     ]
    },
    {
     "name": "stdout",
     "output_type": "stream",
     "text": [
      "Epoch 51000: Train Loss: 6.153174938434978e-06, Test Loss: 17.620777015700728, Train Accuracy: 1.0, Test Accuracy: 0.016550926491618156\n"
     ]
    },
    {
     "name": "stderr",
     "output_type": "stream",
     "text": [
      " 69%|██████▉   | 52074/75000 [01:47<00:45, 502.47it/s]"
     ]
    },
    {
     "name": "stdout",
     "output_type": "stream",
     "text": [
      "Epoch 52000: Train Loss: 6.100840532322743e-06, Test Loss: 17.280815788051274, Train Accuracy: 1.0, Test Accuracy: 0.018171295523643494\n"
     ]
    },
    {
     "name": "stderr",
     "output_type": "stream",
     "text": [
      " 71%|███████   | 53094/75000 [01:49<00:43, 501.63it/s]"
     ]
    },
    {
     "name": "stdout",
     "output_type": "stream",
     "text": [
      "Epoch 53000: Train Loss: 6.063849291620353e-06, Test Loss: 16.94379653918741, Train Accuracy: 1.0, Test Accuracy: 0.019212963059544563\n"
     ]
    },
    {
     "name": "stderr",
     "output_type": "stream",
     "text": [
      " 72%|███████▏  | 54050/75000 [01:51<00:46, 449.78it/s]"
     ]
    },
    {
     "name": "stdout",
     "output_type": "stream",
     "text": [
      "Epoch 54000: Train Loss: 6.024758016045179e-06, Test Loss: 16.6183743006699, Train Accuracy: 1.0, Test Accuracy: 0.019907407462596893\n"
     ]
    },
    {
     "name": "stderr",
     "output_type": "stream",
     "text": [
      " 73%|███████▎  | 55053/75000 [01:53<00:44, 446.26it/s]"
     ]
    },
    {
     "name": "stdout",
     "output_type": "stream",
     "text": [
      "Epoch 55000: Train Loss: 5.985341697855243e-06, Test Loss: 16.296648692931694, Train Accuracy: 1.0, Test Accuracy: 0.021643517538905144\n"
     ]
    },
    {
     "name": "stderr",
     "output_type": "stream",
     "text": [
      " 75%|███████▍  | 56054/75000 [01:55<00:42, 443.35it/s]"
     ]
    },
    {
     "name": "stdout",
     "output_type": "stream",
     "text": [
      "Epoch 56000: Train Loss: 5.9418252786658535e-06, Test Loss: 15.939173890708515, Train Accuracy: 1.0, Test Accuracy: 0.025462962687015533\n"
     ]
    },
    {
     "name": "stderr",
     "output_type": "stream",
     "text": [
      " 76%|███████▌  | 57063/75000 [01:57<00:40, 447.18it/s]"
     ]
    },
    {
     "name": "stdout",
     "output_type": "stream",
     "text": [
      "Epoch 57000: Train Loss: 5.890394850185071e-06, Test Loss: 15.54493618806889, Train Accuracy: 1.0, Test Accuracy: 0.027199072763323784\n"
     ]
    },
    {
     "name": "stderr",
     "output_type": "stream",
     "text": [
      " 77%|███████▋  | 58061/75000 [02:00<00:34, 496.51it/s]"
     ]
    },
    {
     "name": "stdout",
     "output_type": "stream",
     "text": [
      "Epoch 58000: Train Loss: 5.826642916973531e-06, Test Loss: 15.037411139574886, Train Accuracy: 1.0, Test Accuracy: 0.0295138880610466\n"
     ]
    },
    {
     "name": "stderr",
     "output_type": "stream",
     "text": [
      " 79%|███████▉  | 59080/75000 [02:02<00:31, 501.77it/s]"
     ]
    },
    {
     "name": "stdout",
     "output_type": "stream",
     "text": [
      "Epoch 59000: Train Loss: 5.732879013082719e-06, Test Loss: 14.254321682879759, Train Accuracy: 1.0, Test Accuracy: 0.03680555522441864\n"
     ]
    },
    {
     "name": "stderr",
     "output_type": "stream",
     "text": [
      " 80%|████████  | 60060/75000 [02:04<00:32, 453.25it/s]"
     ]
    },
    {
     "name": "stdout",
     "output_type": "stream",
     "text": [
      "Epoch 60000: Train Loss: 5.627360697916806e-06, Test Loss: 13.368103136708891, Train Accuracy: 1.0, Test Accuracy: 0.04398148134350777\n"
     ]
    },
    {
     "name": "stderr",
     "output_type": "stream",
     "text": [
      " 81%|████████▏ | 61061/75000 [02:06<00:28, 494.73it/s]"
     ]
    },
    {
     "name": "stdout",
     "output_type": "stream",
     "text": [
      "Epoch 61000: Train Loss: 5.502662342646345e-06, Test Loss: 12.187907188945404, Train Accuracy: 1.0, Test Accuracy: 0.05474536865949631\n"
     ]
    },
    {
     "name": "stderr",
     "output_type": "stream",
     "text": [
      " 83%|████████▎ | 62064/75000 [02:08<00:26, 496.20it/s]"
     ]
    },
    {
     "name": "stdout",
     "output_type": "stream",
     "text": [
      "Epoch 62000: Train Loss: 5.360685661622294e-06, Test Loss: 11.001297270589832, Train Accuracy: 1.0, Test Accuracy: 0.06851851940155029\n"
     ]
    },
    {
     "name": "stderr",
     "output_type": "stream",
     "text": [
      " 84%|████████▍ | 63060/75000 [02:10<00:24, 492.89it/s]"
     ]
    },
    {
     "name": "stdout",
     "output_type": "stream",
     "text": [
      "Epoch 63000: Train Loss: 5.121443327639741e-06, Test Loss: 9.225520989872802, Train Accuracy: 1.0, Test Accuracy: 0.10150463134050369\n"
     ]
    },
    {
     "name": "stderr",
     "output_type": "stream",
     "text": [
      " 85%|████████▌ | 64060/75000 [02:12<00:22, 491.33it/s]"
     ]
    },
    {
     "name": "stdout",
     "output_type": "stream",
     "text": [
      "Epoch 64000: Train Loss: 4.88577493173858e-06, Test Loss: 7.311357697622685, Train Accuracy: 1.0, Test Accuracy: 0.16006943583488464\n"
     ]
    },
    {
     "name": "stderr",
     "output_type": "stream",
     "text": [
      " 87%|████████▋ | 65060/75000 [02:14<00:20, 477.03it/s]"
     ]
    },
    {
     "name": "stdout",
     "output_type": "stream",
     "text": [
      "Epoch 65000: Train Loss: 4.465699717121323e-06, Test Loss: 4.852745334415711, Train Accuracy: 1.0, Test Accuracy: 0.27893519401550293\n"
     ]
    },
    {
     "name": "stderr",
     "output_type": "stream",
     "text": [
      " 88%|████████▊ | 66068/75000 [02:16<00:19, 452.19it/s]"
     ]
    },
    {
     "name": "stdout",
     "output_type": "stream",
     "text": [
      "Epoch 66000: Train Loss: 4.013236719781686e-06, Test Loss: 2.364037010628906, Train Accuracy: 1.0, Test Accuracy: 0.5271990895271301\n"
     ]
    },
    {
     "name": "stderr",
     "output_type": "stream",
     "text": [
      " 89%|████████▉ | 67074/75000 [02:18<00:17, 445.44it/s]"
     ]
    },
    {
     "name": "stdout",
     "output_type": "stream",
     "text": [
      "Epoch 67000: Train Loss: 3.4904340042329537e-06, Test Loss: 0.6758065565089949, Train Accuracy: 1.0, Test Accuracy: 0.849189817905426\n"
     ]
    },
    {
     "name": "stderr",
     "output_type": "stream",
     "text": [
      " 91%|█████████ | 68072/75000 [02:21<00:15, 441.23it/s]"
     ]
    },
    {
     "name": "stdout",
     "output_type": "stream",
     "text": [
      "Epoch 68000: Train Loss: 2.9931952284852097e-06, Test Loss: 0.2437987763206815, Train Accuracy: 1.0, Test Accuracy: 0.9653934836387634\n"
     ]
    },
    {
     "name": "stderr",
     "output_type": "stream",
     "text": [
      " 92%|█████████▏| 69074/75000 [02:23<00:13, 449.54it/s]"
     ]
    },
    {
     "name": "stdout",
     "output_type": "stream",
     "text": [
      "Epoch 69000: Train Loss: 2.5913068533276957e-06, Test Loss: 0.19307809618841817, Train Accuracy: 1.0, Test Accuracy: 0.9702546000480652\n"
     ]
    },
    {
     "name": "stderr",
     "output_type": "stream",
     "text": [
      " 93%|█████████▎| 70080/75000 [02:25<00:10, 449.08it/s]"
     ]
    },
    {
     "name": "stdout",
     "output_type": "stream",
     "text": [
      "Epoch 70000: Train Loss: 2.356193168237708e-06, Test Loss: 0.0756523948424468, Train Accuracy: 1.0, Test Accuracy: 0.9777777791023254\n"
     ]
    },
    {
     "name": "stderr",
     "output_type": "stream",
     "text": [
      " 95%|█████████▍| 71065/75000 [02:27<00:07, 493.49it/s]"
     ]
    },
    {
     "name": "stdout",
     "output_type": "stream",
     "text": [
      "Epoch 71000: Train Loss: 2.071160523341473e-06, Test Loss: 3.5184810063978113e-06, Train Accuracy: 1.0, Test Accuracy: 1.0\n"
     ]
    },
    {
     "name": "stderr",
     "output_type": "stream",
     "text": [
      " 96%|█████████▌| 72083/75000 [02:29<00:05, 496.53it/s]"
     ]
    },
    {
     "name": "stdout",
     "output_type": "stream",
     "text": [
      "Epoch 72000: Train Loss: 2.085427719825188e-06, Test Loss: 2.8124387770377445e-06, Train Accuracy: 1.0, Test Accuracy: 1.0\n"
     ]
    },
    {
     "name": "stderr",
     "output_type": "stream",
     "text": [
      " 97%|█████████▋| 73099/75000 [02:31<00:03, 501.17it/s]"
     ]
    },
    {
     "name": "stdout",
     "output_type": "stream",
     "text": [
      "Epoch 73000: Train Loss: 2.1019317401172256e-06, Test Loss: 2.754367274920337e-06, Train Accuracy: 1.0, Test Accuracy: 1.0\n"
     ]
    },
    {
     "name": "stderr",
     "output_type": "stream",
     "text": [
      " 99%|█████████▉| 74068/75000 [02:33<00:01, 503.00it/s]"
     ]
    },
    {
     "name": "stdout",
     "output_type": "stream",
     "text": [
      "Epoch 74000: Train Loss: 2.0976692827139747e-06, Test Loss: 2.751178487840493e-06, Train Accuracy: 1.0, Test Accuracy: 1.0\n"
     ]
    },
    {
     "name": "stderr",
     "output_type": "stream",
     "text": [
      "100%|██████████| 75000/75000 [02:35<00:00, 482.26it/s]\n"
     ]
    }
   ],
   "source": [
    "train_losses = []\n",
    "test_losses = []\n",
    "train_accs = []\n",
    "test_accs = []\n",
    "\n",
    "for epoch in tqdm(range(training_cfg[\"num_epochs\"])):\n",
    "    train_logits = model(train_data)\n",
    "    train_loss = loss_fn(train_logits, train_labels)\n",
    "    train_loss.backward()\n",
    "    optimizer.step()\n",
    "    optimizer.zero_grad()\n",
    "\n",
    "    if epoch % 1000 == 0:\n",
    "        with torch.inference_mode():\n",
    "            test_logits = model(test_data)\n",
    "            test_loss = loss_fn(test_logits, test_labels)\n",
    "            train_acc = get_accuracy(train_logits, train_labels)\n",
    "            test_acc = get_accuracy(test_logits, test_labels)\n",
    "            print(f\"Epoch {epoch}: Train Loss: {train_loss}, Test Loss: {test_loss}, Train Accuracy: {train_acc}, Test Accuracy: {test_acc}\")\n",
    "        train_losses.append(train_loss.item())\n",
    "        test_losses.append(test_loss.item())\n",
    "        train_accs.append(train_acc)\n",
    "        test_accs.append(test_acc)\n",
    "\n",
    "\n",
    "\n"
   ]
  },
  {
   "attachments": {},
   "cell_type": "markdown",
   "metadata": {},
   "source": [
    "Let's plot loss and accuracy. We see the model groks! It initially memorises the training data, and much later on (around epoch 70k) suddenly generalises to the test set."
   ]
  },
  {
   "cell_type": "code",
   "execution_count": 17,
   "metadata": {},
   "outputs": [
    {
     "data": {
      "application/vnd.plotly.v1+json": {
       "config": {
        "plotlyServerURL": "https://plot.ly"
       },
       "data": [
        {
         "mode": "lines",
         "name": "Train Loss",
         "type": "scatter",
         "x": [
          0,
          1000,
          2000,
          3000,
          4000,
          5000,
          6000,
          7000,
          8000,
          9000,
          10000,
          11000,
          12000,
          13000,
          14000,
          15000,
          16000,
          17000,
          18000,
          19000,
          20000,
          21000,
          22000,
          23000,
          24000,
          25000,
          26000,
          27000,
          28000,
          29000,
          30000,
          31000,
          32000,
          33000,
          34000,
          35000,
          36000,
          37000,
          38000,
          39000,
          40000,
          41000,
          42000,
          43000,
          44000,
          45000,
          46000,
          47000,
          48000,
          49000,
          50000,
          51000,
          52000,
          53000,
          54000,
          55000,
          56000,
          57000,
          58000,
          59000,
          60000,
          61000,
          62000,
          63000,
          64000,
          65000,
          66000,
          67000,
          68000,
          69000,
          70000,
          71000,
          72000,
          73000,
          74000
         ],
         "y": [
          4.788640449718693,
          0.0014230852654155432,
          0.000010371127345550383,
          0.00000928916789346865,
          0.000009027984962200929,
          0.000008843711821515795,
          0.000008713580143243848,
          0.000008605533626326864,
          0.000008513514004822296,
          0.000008430327062914028,
          0.000008363853707070644,
          0.00000830144133616486,
          0.000008237403655008239,
          0.000008174784670199603,
          0.000008126368153885452,
          0.000008076891728273977,
          0.00000803142297004289,
          0.000007985882949788269,
          0.000007942705801747821,
          0.000007902100509987374,
          0.000007866609099229755,
          0.000007832928618637219,
          0.000007801011500145634,
          0.00000776612875167956,
          0.000007730398161195362,
          0.000007697242767052906,
          0.00000765714235115075,
          0.0000076153467795990345,
          0.000007566795523489502,
          0.000007524803465351525,
          0.000007492317728010532,
          0.000007461456200378397,
          0.000007425241405011563,
          0.000007392358659557805,
          0.000007363923512458337,
          0.000007309714471480002,
          0.000007264856044341571,
          0.000007232683014535503,
          0.000007188941963345562,
          0.000007141047773126178,
          0.000007092052074271086,
          0.000007040348210478575,
          0.000006976306592459694,
          0.000006912835748887075,
          0.000006861945306670228,
          0.0000067342440650079595,
          0.000006414317237825353,
          0.000006343124420598653,
          0.0000062874606028192515,
          0.00000623843281761228,
          0.000006193474432257247,
          0.000006153174938434978,
          0.000006100840532322743,
          0.000006063849291620353,
          0.000006024758016045179,
          0.000005985341697855243,
          0.0000059418252786658535,
          0.000005890394850185071,
          0.000005826642916973531,
          0.000005732879013082719,
          0.000005627360697916806,
          0.000005502662342646345,
          0.000005360685661622294,
          0.000005121443327639741,
          0.00000488577493173858,
          0.000004465699717121323,
          0.000004013236719781686,
          0.0000034904340042329537,
          0.0000029931952284852097,
          0.0000025913068533276957,
          0.000002356193168237708,
          0.000002071160523341473,
          0.000002085427719825188,
          0.0000021019317401172256,
          0.0000020976692827139747
         ]
        },
        {
         "mode": "lines",
         "name": "Test Loss",
         "type": "scatter",
         "x": [
          0,
          1000,
          2000,
          3000,
          4000,
          5000,
          6000,
          7000,
          8000,
          9000,
          10000,
          11000,
          12000,
          13000,
          14000,
          15000,
          16000,
          17000,
          18000,
          19000,
          20000,
          21000,
          22000,
          23000,
          24000,
          25000,
          26000,
          27000,
          28000,
          29000,
          30000,
          31000,
          32000,
          33000,
          34000,
          35000,
          36000,
          37000,
          38000,
          39000,
          40000,
          41000,
          42000,
          43000,
          44000,
          45000,
          46000,
          47000,
          48000,
          49000,
          50000,
          51000,
          52000,
          53000,
          54000,
          55000,
          56000,
          57000,
          58000,
          59000,
          60000,
          61000,
          62000,
          63000,
          64000,
          65000,
          66000,
          67000,
          68000,
          69000,
          70000,
          71000,
          72000,
          73000,
          74000
         ],
         "y": [
          4.789846160721121,
          31.025889312314813,
          42.32135782920235,
          39.74175323113012,
          37.979951976766685,
          36.75291020285111,
          35.90106414693857,
          35.235500056005996,
          34.65525806014785,
          34.144935524117926,
          33.728746871927584,
          33.36465937707598,
          33.042006361873064,
          32.73591884208349,
          32.454488264784196,
          32.183694283909034,
          31.877598700000124,
          31.588083174209576,
          31.300450615126945,
          31.071757274844458,
          30.825448419846026,
          30.57406529479693,
          30.32559158391679,
          30.067768782116268,
          29.786146012719477,
          29.493918591238668,
          29.166109643467536,
          28.831969611141492,
          28.46175553196621,
          28.06147039609432,
          27.74509806970608,
          27.464479134413967,
          27.2185777159789,
          26.975435239425646,
          26.73794948917406,
          26.37225088949308,
          25.98035746159736,
          25.5770855410318,
          25.172942494121965,
          24.769493756876546,
          24.308201922805644,
          23.848055355144385,
          23.37419637600757,
          22.88790642861647,
          22.451284704347913,
          21.829569588717305,
          19.575365906353877,
          18.95071475322166,
          18.567742582969146,
          18.23249668670641,
          17.922258976232744,
          17.620777015700728,
          17.280815788051274,
          16.94379653918741,
          16.6183743006699,
          16.296648692931694,
          15.939173890708515,
          15.54493618806889,
          15.037411139574886,
          14.254321682879759,
          13.368103136708891,
          12.187907188945404,
          11.001297270589832,
          9.225520989872802,
          7.311357697622685,
          4.852745334415711,
          2.364037010628906,
          0.6758065565089949,
          0.2437987763206815,
          0.19307809618841817,
          0.0756523948424468,
          0.0000035184810063978113,
          0.0000028124387770377445,
          0.000002754367274920337,
          0.000002751178487840493
         ]
        }
       ],
       "layout": {
        "legend": {},
        "template": {
         "data": {
          "bar": [
           {
            "error_x": {
             "color": "#2a3f5f"
            },
            "error_y": {
             "color": "#2a3f5f"
            },
            "marker": {
             "line": {
              "color": "#E5ECF6",
              "width": 0.5
             },
             "pattern": {
              "fillmode": "overlay",
              "size": 10,
              "solidity": 0.2
             }
            },
            "type": "bar"
           }
          ],
          "barpolar": [
           {
            "marker": {
             "line": {
              "color": "#E5ECF6",
              "width": 0.5
             },
             "pattern": {
              "fillmode": "overlay",
              "size": 10,
              "solidity": 0.2
             }
            },
            "type": "barpolar"
           }
          ],
          "carpet": [
           {
            "aaxis": {
             "endlinecolor": "#2a3f5f",
             "gridcolor": "white",
             "linecolor": "white",
             "minorgridcolor": "white",
             "startlinecolor": "#2a3f5f"
            },
            "baxis": {
             "endlinecolor": "#2a3f5f",
             "gridcolor": "white",
             "linecolor": "white",
             "minorgridcolor": "white",
             "startlinecolor": "#2a3f5f"
            },
            "type": "carpet"
           }
          ],
          "choropleth": [
           {
            "colorbar": {
             "outlinewidth": 0,
             "ticks": ""
            },
            "type": "choropleth"
           }
          ],
          "contour": [
           {
            "colorbar": {
             "outlinewidth": 0,
             "ticks": ""
            },
            "colorscale": [
             [
              0,
              "#0d0887"
             ],
             [
              0.1111111111111111,
              "#46039f"
             ],
             [
              0.2222222222222222,
              "#7201a8"
             ],
             [
              0.3333333333333333,
              "#9c179e"
             ],
             [
              0.4444444444444444,
              "#bd3786"
             ],
             [
              0.5555555555555556,
              "#d8576b"
             ],
             [
              0.6666666666666666,
              "#ed7953"
             ],
             [
              0.7777777777777778,
              "#fb9f3a"
             ],
             [
              0.8888888888888888,
              "#fdca26"
             ],
             [
              1,
              "#f0f921"
             ]
            ],
            "type": "contour"
           }
          ],
          "contourcarpet": [
           {
            "colorbar": {
             "outlinewidth": 0,
             "ticks": ""
            },
            "type": "contourcarpet"
           }
          ],
          "heatmap": [
           {
            "colorbar": {
             "outlinewidth": 0,
             "ticks": ""
            },
            "colorscale": [
             [
              0,
              "#0d0887"
             ],
             [
              0.1111111111111111,
              "#46039f"
             ],
             [
              0.2222222222222222,
              "#7201a8"
             ],
             [
              0.3333333333333333,
              "#9c179e"
             ],
             [
              0.4444444444444444,
              "#bd3786"
             ],
             [
              0.5555555555555556,
              "#d8576b"
             ],
             [
              0.6666666666666666,
              "#ed7953"
             ],
             [
              0.7777777777777778,
              "#fb9f3a"
             ],
             [
              0.8888888888888888,
              "#fdca26"
             ],
             [
              1,
              "#f0f921"
             ]
            ],
            "type": "heatmap"
           }
          ],
          "heatmapgl": [
           {
            "colorbar": {
             "outlinewidth": 0,
             "ticks": ""
            },
            "colorscale": [
             [
              0,
              "#0d0887"
             ],
             [
              0.1111111111111111,
              "#46039f"
             ],
             [
              0.2222222222222222,
              "#7201a8"
             ],
             [
              0.3333333333333333,
              "#9c179e"
             ],
             [
              0.4444444444444444,
              "#bd3786"
             ],
             [
              0.5555555555555556,
              "#d8576b"
             ],
             [
              0.6666666666666666,
              "#ed7953"
             ],
             [
              0.7777777777777778,
              "#fb9f3a"
             ],
             [
              0.8888888888888888,
              "#fdca26"
             ],
             [
              1,
              "#f0f921"
             ]
            ],
            "type": "heatmapgl"
           }
          ],
          "histogram": [
           {
            "marker": {
             "pattern": {
              "fillmode": "overlay",
              "size": 10,
              "solidity": 0.2
             }
            },
            "type": "histogram"
           }
          ],
          "histogram2d": [
           {
            "colorbar": {
             "outlinewidth": 0,
             "ticks": ""
            },
            "colorscale": [
             [
              0,
              "#0d0887"
             ],
             [
              0.1111111111111111,
              "#46039f"
             ],
             [
              0.2222222222222222,
              "#7201a8"
             ],
             [
              0.3333333333333333,
              "#9c179e"
             ],
             [
              0.4444444444444444,
              "#bd3786"
             ],
             [
              0.5555555555555556,
              "#d8576b"
             ],
             [
              0.6666666666666666,
              "#ed7953"
             ],
             [
              0.7777777777777778,
              "#fb9f3a"
             ],
             [
              0.8888888888888888,
              "#fdca26"
             ],
             [
              1,
              "#f0f921"
             ]
            ],
            "type": "histogram2d"
           }
          ],
          "histogram2dcontour": [
           {
            "colorbar": {
             "outlinewidth": 0,
             "ticks": ""
            },
            "colorscale": [
             [
              0,
              "#0d0887"
             ],
             [
              0.1111111111111111,
              "#46039f"
             ],
             [
              0.2222222222222222,
              "#7201a8"
             ],
             [
              0.3333333333333333,
              "#9c179e"
             ],
             [
              0.4444444444444444,
              "#bd3786"
             ],
             [
              0.5555555555555556,
              "#d8576b"
             ],
             [
              0.6666666666666666,
              "#ed7953"
             ],
             [
              0.7777777777777778,
              "#fb9f3a"
             ],
             [
              0.8888888888888888,
              "#fdca26"
             ],
             [
              1,
              "#f0f921"
             ]
            ],
            "type": "histogram2dcontour"
           }
          ],
          "mesh3d": [
           {
            "colorbar": {
             "outlinewidth": 0,
             "ticks": ""
            },
            "type": "mesh3d"
           }
          ],
          "parcoords": [
           {
            "line": {
             "colorbar": {
              "outlinewidth": 0,
              "ticks": ""
             }
            },
            "type": "parcoords"
           }
          ],
          "pie": [
           {
            "automargin": true,
            "type": "pie"
           }
          ],
          "scatter": [
           {
            "fillpattern": {
             "fillmode": "overlay",
             "size": 10,
             "solidity": 0.2
            },
            "type": "scatter"
           }
          ],
          "scatter3d": [
           {
            "line": {
             "colorbar": {
              "outlinewidth": 0,
              "ticks": ""
             }
            },
            "marker": {
             "colorbar": {
              "outlinewidth": 0,
              "ticks": ""
             }
            },
            "type": "scatter3d"
           }
          ],
          "scattercarpet": [
           {
            "marker": {
             "colorbar": {
              "outlinewidth": 0,
              "ticks": ""
             }
            },
            "type": "scattercarpet"
           }
          ],
          "scattergeo": [
           {
            "marker": {
             "colorbar": {
              "outlinewidth": 0,
              "ticks": ""
             }
            },
            "type": "scattergeo"
           }
          ],
          "scattergl": [
           {
            "marker": {
             "colorbar": {
              "outlinewidth": 0,
              "ticks": ""
             }
            },
            "type": "scattergl"
           }
          ],
          "scattermapbox": [
           {
            "marker": {
             "colorbar": {
              "outlinewidth": 0,
              "ticks": ""
             }
            },
            "type": "scattermapbox"
           }
          ],
          "scatterpolar": [
           {
            "marker": {
             "colorbar": {
              "outlinewidth": 0,
              "ticks": ""
             }
            },
            "type": "scatterpolar"
           }
          ],
          "scatterpolargl": [
           {
            "marker": {
             "colorbar": {
              "outlinewidth": 0,
              "ticks": ""
             }
            },
            "type": "scatterpolargl"
           }
          ],
          "scatterternary": [
           {
            "marker": {
             "colorbar": {
              "outlinewidth": 0,
              "ticks": ""
             }
            },
            "type": "scatterternary"
           }
          ],
          "surface": [
           {
            "colorbar": {
             "outlinewidth": 0,
             "ticks": ""
            },
            "colorscale": [
             [
              0,
              "#0d0887"
             ],
             [
              0.1111111111111111,
              "#46039f"
             ],
             [
              0.2222222222222222,
              "#7201a8"
             ],
             [
              0.3333333333333333,
              "#9c179e"
             ],
             [
              0.4444444444444444,
              "#bd3786"
             ],
             [
              0.5555555555555556,
              "#d8576b"
             ],
             [
              0.6666666666666666,
              "#ed7953"
             ],
             [
              0.7777777777777778,
              "#fb9f3a"
             ],
             [
              0.8888888888888888,
              "#fdca26"
             ],
             [
              1,
              "#f0f921"
             ]
            ],
            "type": "surface"
           }
          ],
          "table": [
           {
            "cells": {
             "fill": {
              "color": "#EBF0F8"
             },
             "line": {
              "color": "white"
             }
            },
            "header": {
             "fill": {
              "color": "#C8D4E3"
             },
             "line": {
              "color": "white"
             }
            },
            "type": "table"
           }
          ]
         },
         "layout": {
          "annotationdefaults": {
           "arrowcolor": "#2a3f5f",
           "arrowhead": 0,
           "arrowwidth": 1
          },
          "autotypenumbers": "strict",
          "coloraxis": {
           "colorbar": {
            "outlinewidth": 0,
            "ticks": ""
           }
          },
          "colorscale": {
           "diverging": [
            [
             0,
             "#8e0152"
            ],
            [
             0.1,
             "#c51b7d"
            ],
            [
             0.2,
             "#de77ae"
            ],
            [
             0.3,
             "#f1b6da"
            ],
            [
             0.4,
             "#fde0ef"
            ],
            [
             0.5,
             "#f7f7f7"
            ],
            [
             0.6,
             "#e6f5d0"
            ],
            [
             0.7,
             "#b8e186"
            ],
            [
             0.8,
             "#7fbc41"
            ],
            [
             0.9,
             "#4d9221"
            ],
            [
             1,
             "#276419"
            ]
           ],
           "sequential": [
            [
             0,
             "#0d0887"
            ],
            [
             0.1111111111111111,
             "#46039f"
            ],
            [
             0.2222222222222222,
             "#7201a8"
            ],
            [
             0.3333333333333333,
             "#9c179e"
            ],
            [
             0.4444444444444444,
             "#bd3786"
            ],
            [
             0.5555555555555556,
             "#d8576b"
            ],
            [
             0.6666666666666666,
             "#ed7953"
            ],
            [
             0.7777777777777778,
             "#fb9f3a"
            ],
            [
             0.8888888888888888,
             "#fdca26"
            ],
            [
             1,
             "#f0f921"
            ]
           ],
           "sequentialminus": [
            [
             0,
             "#0d0887"
            ],
            [
             0.1111111111111111,
             "#46039f"
            ],
            [
             0.2222222222222222,
             "#7201a8"
            ],
            [
             0.3333333333333333,
             "#9c179e"
            ],
            [
             0.4444444444444444,
             "#bd3786"
            ],
            [
             0.5555555555555556,
             "#d8576b"
            ],
            [
             0.6666666666666666,
             "#ed7953"
            ],
            [
             0.7777777777777778,
             "#fb9f3a"
            ],
            [
             0.8888888888888888,
             "#fdca26"
            ],
            [
             1,
             "#f0f921"
            ]
           ]
          },
          "colorway": [
           "#636efa",
           "#EF553B",
           "#00cc96",
           "#ab63fa",
           "#FFA15A",
           "#19d3f3",
           "#FF6692",
           "#B6E880",
           "#FF97FF",
           "#FECB52"
          ],
          "font": {
           "color": "#2a3f5f"
          },
          "geo": {
           "bgcolor": "white",
           "lakecolor": "white",
           "landcolor": "#E5ECF6",
           "showlakes": true,
           "showland": true,
           "subunitcolor": "white"
          },
          "hoverlabel": {
           "align": "left"
          },
          "hovermode": "closest",
          "mapbox": {
           "style": "light"
          },
          "paper_bgcolor": "white",
          "plot_bgcolor": "#E5ECF6",
          "polar": {
           "angularaxis": {
            "gridcolor": "white",
            "linecolor": "white",
            "ticks": ""
           },
           "bgcolor": "#E5ECF6",
           "radialaxis": {
            "gridcolor": "white",
            "linecolor": "white",
            "ticks": ""
           }
          },
          "scene": {
           "xaxis": {
            "backgroundcolor": "#E5ECF6",
            "gridcolor": "white",
            "gridwidth": 2,
            "linecolor": "white",
            "showbackground": true,
            "ticks": "",
            "zerolinecolor": "white"
           },
           "yaxis": {
            "backgroundcolor": "#E5ECF6",
            "gridcolor": "white",
            "gridwidth": 2,
            "linecolor": "white",
            "showbackground": true,
            "ticks": "",
            "zerolinecolor": "white"
           },
           "zaxis": {
            "backgroundcolor": "#E5ECF6",
            "gridcolor": "white",
            "gridwidth": 2,
            "linecolor": "white",
            "showbackground": true,
            "ticks": "",
            "zerolinecolor": "white"
           }
          },
          "shapedefaults": {
           "line": {
            "color": "#2a3f5f"
           }
          },
          "ternary": {
           "aaxis": {
            "gridcolor": "white",
            "linecolor": "white",
            "ticks": ""
           },
           "baxis": {
            "gridcolor": "white",
            "linecolor": "white",
            "ticks": ""
           },
           "bgcolor": "#E5ECF6",
           "caxis": {
            "gridcolor": "white",
            "linecolor": "white",
            "ticks": ""
           }
          },
          "title": {
           "x": 0.05
          },
          "xaxis": {
           "automargin": true,
           "gridcolor": "white",
           "linecolor": "white",
           "ticks": "",
           "title": {
            "standoff": 15
           },
           "zerolinecolor": "white",
           "zerolinewidth": 2
          },
          "yaxis": {
           "automargin": true,
           "gridcolor": "white",
           "linecolor": "white",
           "ticks": "",
           "title": {
            "standoff": 15
           },
           "zerolinecolor": "white",
           "zerolinewidth": 2
          }
         }
        },
        "title": {
         "text": "Loss vs Epoch",
         "x": 0.5,
         "y": 0.85
        },
        "xaxis": {
         "title": {
          "text": "Epoch"
         }
        },
        "yaxis": {
         "title": {
          "text": "Loss"
         },
         "type": "log"
        }
       }
      }
     },
     "metadata": {},
     "output_type": "display_data"
    },
    {
     "data": {
      "application/vnd.plotly.v1+json": {
       "config": {
        "plotlyServerURL": "https://plot.ly"
       },
       "data": [
        {
         "mode": "lines",
         "name": "Train Accuracy",
         "type": "scatter",
         "x": [
          0,
          1000,
          2000,
          3000,
          4000,
          5000,
          6000,
          7000,
          8000,
          9000,
          10000,
          11000,
          12000,
          13000,
          14000,
          15000,
          16000,
          17000,
          18000,
          19000,
          20000,
          21000,
          22000,
          23000,
          24000,
          25000,
          26000,
          27000,
          28000,
          29000,
          30000,
          31000,
          32000,
          33000,
          34000,
          35000,
          36000,
          37000,
          38000,
          39000,
          40000,
          41000,
          42000,
          43000,
          44000,
          45000,
          46000,
          47000,
          48000,
          49000,
          50000,
          51000,
          52000,
          53000,
          54000,
          55000,
          56000,
          57000,
          58000,
          59000,
          60000,
          61000,
          62000,
          63000,
          64000,
          65000,
          66000,
          67000,
          68000,
          69000,
          70000,
          71000,
          72000,
          73000,
          74000
         ],
         "y": [
          0.008854166604578495,
          1,
          1,
          1,
          1,
          1,
          1,
          1,
          1,
          1,
          1,
          1,
          1,
          1,
          1,
          1,
          1,
          1,
          1,
          1,
          1,
          1,
          1,
          1,
          1,
          1,
          1,
          1,
          1,
          1,
          1,
          1,
          1,
          1,
          1,
          1,
          1,
          1,
          1,
          1,
          1,
          1,
          1,
          1,
          1,
          1,
          1,
          1,
          1,
          1,
          1,
          1,
          1,
          1,
          1,
          1,
          1,
          1,
          1,
          1,
          1,
          1,
          1,
          1,
          1,
          1,
          1,
          1,
          1,
          1,
          1,
          1,
          1,
          1,
          1
         ]
        },
        {
         "mode": "lines",
         "name": "Test Accuracy",
         "type": "scatter",
         "x": [
          0,
          1000,
          2000,
          3000,
          4000,
          5000,
          6000,
          7000,
          8000,
          9000,
          10000,
          11000,
          12000,
          13000,
          14000,
          15000,
          16000,
          17000,
          18000,
          19000,
          20000,
          21000,
          22000,
          23000,
          24000,
          25000,
          26000,
          27000,
          28000,
          29000,
          30000,
          31000,
          32000,
          33000,
          34000,
          35000,
          36000,
          37000,
          38000,
          39000,
          40000,
          41000,
          42000,
          43000,
          44000,
          45000,
          46000,
          47000,
          48000,
          49000,
          50000,
          51000,
          52000,
          53000,
          54000,
          55000,
          56000,
          57000,
          58000,
          59000,
          60000,
          61000,
          62000,
          63000,
          64000,
          65000,
          66000,
          67000,
          68000,
          69000,
          70000,
          71000,
          72000,
          73000,
          74000
         ],
         "y": [
          0.007986110635101795,
          0.00023148147738538682,
          0.00023148147738538682,
          0.000347222201526165,
          0.00046296295477077365,
          0.0005787037080153823,
          0.00069444440305233,
          0.00069444440305233,
          0.00069444440305233,
          0.0009259259095415473,
          0.001041666604578495,
          0.0009259259095415473,
          0.0009259259095415473,
          0.0009259259095415473,
          0.0008101851562969387,
          0.00069444440305233,
          0.0008101851562969387,
          0.0009259259095415473,
          0.001041666604578495,
          0.0011574074160307646,
          0.001041666604578495,
          0.0011574074160307646,
          0.001041666604578495,
          0.001041666604578495,
          0.00138888880610466,
          0.0011574074160307646,
          0.001041666604578495,
          0.001041666604578495,
          0.001041666604578495,
          0.0011574074160307646,
          0.0012731481110677123,
          0.0011574074160307646,
          0.0017361111240461469,
          0.001967592630535364,
          0.002314814832061529,
          0.00277777761220932,
          0.003935185261070728,
          0.003935185261070728,
          0.00416666641831398,
          0.00486111082136631,
          0.004398148041218519,
          0.005208333022892475,
          0.005787036847323179,
          0.005671296268701553,
          0.00555555522441864,
          0.006018518470227718,
          0.010532407090067863,
          0.011805555783212185,
          0.012615740299224854,
          0.01354166679084301,
          0.01597222127020359,
          0.016550926491618156,
          0.018171295523643494,
          0.019212963059544563,
          0.019907407462596893,
          0.021643517538905144,
          0.025462962687015533,
          0.027199072763323784,
          0.0295138880610466,
          0.03680555522441864,
          0.04398148134350777,
          0.05474536865949631,
          0.06851851940155029,
          0.10150463134050369,
          0.16006943583488464,
          0.27893519401550293,
          0.5271990895271301,
          0.849189817905426,
          0.9653934836387634,
          0.9702546000480652,
          0.9777777791023254,
          1,
          1,
          1,
          1
         ]
        }
       ],
       "layout": {
        "legend": {},
        "template": {
         "data": {
          "bar": [
           {
            "error_x": {
             "color": "#2a3f5f"
            },
            "error_y": {
             "color": "#2a3f5f"
            },
            "marker": {
             "line": {
              "color": "#E5ECF6",
              "width": 0.5
             },
             "pattern": {
              "fillmode": "overlay",
              "size": 10,
              "solidity": 0.2
             }
            },
            "type": "bar"
           }
          ],
          "barpolar": [
           {
            "marker": {
             "line": {
              "color": "#E5ECF6",
              "width": 0.5
             },
             "pattern": {
              "fillmode": "overlay",
              "size": 10,
              "solidity": 0.2
             }
            },
            "type": "barpolar"
           }
          ],
          "carpet": [
           {
            "aaxis": {
             "endlinecolor": "#2a3f5f",
             "gridcolor": "white",
             "linecolor": "white",
             "minorgridcolor": "white",
             "startlinecolor": "#2a3f5f"
            },
            "baxis": {
             "endlinecolor": "#2a3f5f",
             "gridcolor": "white",
             "linecolor": "white",
             "minorgridcolor": "white",
             "startlinecolor": "#2a3f5f"
            },
            "type": "carpet"
           }
          ],
          "choropleth": [
           {
            "colorbar": {
             "outlinewidth": 0,
             "ticks": ""
            },
            "type": "choropleth"
           }
          ],
          "contour": [
           {
            "colorbar": {
             "outlinewidth": 0,
             "ticks": ""
            },
            "colorscale": [
             [
              0,
              "#0d0887"
             ],
             [
              0.1111111111111111,
              "#46039f"
             ],
             [
              0.2222222222222222,
              "#7201a8"
             ],
             [
              0.3333333333333333,
              "#9c179e"
             ],
             [
              0.4444444444444444,
              "#bd3786"
             ],
             [
              0.5555555555555556,
              "#d8576b"
             ],
             [
              0.6666666666666666,
              "#ed7953"
             ],
             [
              0.7777777777777778,
              "#fb9f3a"
             ],
             [
              0.8888888888888888,
              "#fdca26"
             ],
             [
              1,
              "#f0f921"
             ]
            ],
            "type": "contour"
           }
          ],
          "contourcarpet": [
           {
            "colorbar": {
             "outlinewidth": 0,
             "ticks": ""
            },
            "type": "contourcarpet"
           }
          ],
          "heatmap": [
           {
            "colorbar": {
             "outlinewidth": 0,
             "ticks": ""
            },
            "colorscale": [
             [
              0,
              "#0d0887"
             ],
             [
              0.1111111111111111,
              "#46039f"
             ],
             [
              0.2222222222222222,
              "#7201a8"
             ],
             [
              0.3333333333333333,
              "#9c179e"
             ],
             [
              0.4444444444444444,
              "#bd3786"
             ],
             [
              0.5555555555555556,
              "#d8576b"
             ],
             [
              0.6666666666666666,
              "#ed7953"
             ],
             [
              0.7777777777777778,
              "#fb9f3a"
             ],
             [
              0.8888888888888888,
              "#fdca26"
             ],
             [
              1,
              "#f0f921"
             ]
            ],
            "type": "heatmap"
           }
          ],
          "heatmapgl": [
           {
            "colorbar": {
             "outlinewidth": 0,
             "ticks": ""
            },
            "colorscale": [
             [
              0,
              "#0d0887"
             ],
             [
              0.1111111111111111,
              "#46039f"
             ],
             [
              0.2222222222222222,
              "#7201a8"
             ],
             [
              0.3333333333333333,
              "#9c179e"
             ],
             [
              0.4444444444444444,
              "#bd3786"
             ],
             [
              0.5555555555555556,
              "#d8576b"
             ],
             [
              0.6666666666666666,
              "#ed7953"
             ],
             [
              0.7777777777777778,
              "#fb9f3a"
             ],
             [
              0.8888888888888888,
              "#fdca26"
             ],
             [
              1,
              "#f0f921"
             ]
            ],
            "type": "heatmapgl"
           }
          ],
          "histogram": [
           {
            "marker": {
             "pattern": {
              "fillmode": "overlay",
              "size": 10,
              "solidity": 0.2
             }
            },
            "type": "histogram"
           }
          ],
          "histogram2d": [
           {
            "colorbar": {
             "outlinewidth": 0,
             "ticks": ""
            },
            "colorscale": [
             [
              0,
              "#0d0887"
             ],
             [
              0.1111111111111111,
              "#46039f"
             ],
             [
              0.2222222222222222,
              "#7201a8"
             ],
             [
              0.3333333333333333,
              "#9c179e"
             ],
             [
              0.4444444444444444,
              "#bd3786"
             ],
             [
              0.5555555555555556,
              "#d8576b"
             ],
             [
              0.6666666666666666,
              "#ed7953"
             ],
             [
              0.7777777777777778,
              "#fb9f3a"
             ],
             [
              0.8888888888888888,
              "#fdca26"
             ],
             [
              1,
              "#f0f921"
             ]
            ],
            "type": "histogram2d"
           }
          ],
          "histogram2dcontour": [
           {
            "colorbar": {
             "outlinewidth": 0,
             "ticks": ""
            },
            "colorscale": [
             [
              0,
              "#0d0887"
             ],
             [
              0.1111111111111111,
              "#46039f"
             ],
             [
              0.2222222222222222,
              "#7201a8"
             ],
             [
              0.3333333333333333,
              "#9c179e"
             ],
             [
              0.4444444444444444,
              "#bd3786"
             ],
             [
              0.5555555555555556,
              "#d8576b"
             ],
             [
              0.6666666666666666,
              "#ed7953"
             ],
             [
              0.7777777777777778,
              "#fb9f3a"
             ],
             [
              0.8888888888888888,
              "#fdca26"
             ],
             [
              1,
              "#f0f921"
             ]
            ],
            "type": "histogram2dcontour"
           }
          ],
          "mesh3d": [
           {
            "colorbar": {
             "outlinewidth": 0,
             "ticks": ""
            },
            "type": "mesh3d"
           }
          ],
          "parcoords": [
           {
            "line": {
             "colorbar": {
              "outlinewidth": 0,
              "ticks": ""
             }
            },
            "type": "parcoords"
           }
          ],
          "pie": [
           {
            "automargin": true,
            "type": "pie"
           }
          ],
          "scatter": [
           {
            "fillpattern": {
             "fillmode": "overlay",
             "size": 10,
             "solidity": 0.2
            },
            "type": "scatter"
           }
          ],
          "scatter3d": [
           {
            "line": {
             "colorbar": {
              "outlinewidth": 0,
              "ticks": ""
             }
            },
            "marker": {
             "colorbar": {
              "outlinewidth": 0,
              "ticks": ""
             }
            },
            "type": "scatter3d"
           }
          ],
          "scattercarpet": [
           {
            "marker": {
             "colorbar": {
              "outlinewidth": 0,
              "ticks": ""
             }
            },
            "type": "scattercarpet"
           }
          ],
          "scattergeo": [
           {
            "marker": {
             "colorbar": {
              "outlinewidth": 0,
              "ticks": ""
             }
            },
            "type": "scattergeo"
           }
          ],
          "scattergl": [
           {
            "marker": {
             "colorbar": {
              "outlinewidth": 0,
              "ticks": ""
             }
            },
            "type": "scattergl"
           }
          ],
          "scattermapbox": [
           {
            "marker": {
             "colorbar": {
              "outlinewidth": 0,
              "ticks": ""
             }
            },
            "type": "scattermapbox"
           }
          ],
          "scatterpolar": [
           {
            "marker": {
             "colorbar": {
              "outlinewidth": 0,
              "ticks": ""
             }
            },
            "type": "scatterpolar"
           }
          ],
          "scatterpolargl": [
           {
            "marker": {
             "colorbar": {
              "outlinewidth": 0,
              "ticks": ""
             }
            },
            "type": "scatterpolargl"
           }
          ],
          "scatterternary": [
           {
            "marker": {
             "colorbar": {
              "outlinewidth": 0,
              "ticks": ""
             }
            },
            "type": "scatterternary"
           }
          ],
          "surface": [
           {
            "colorbar": {
             "outlinewidth": 0,
             "ticks": ""
            },
            "colorscale": [
             [
              0,
              "#0d0887"
             ],
             [
              0.1111111111111111,
              "#46039f"
             ],
             [
              0.2222222222222222,
              "#7201a8"
             ],
             [
              0.3333333333333333,
              "#9c179e"
             ],
             [
              0.4444444444444444,
              "#bd3786"
             ],
             [
              0.5555555555555556,
              "#d8576b"
             ],
             [
              0.6666666666666666,
              "#ed7953"
             ],
             [
              0.7777777777777778,
              "#fb9f3a"
             ],
             [
              0.8888888888888888,
              "#fdca26"
             ],
             [
              1,
              "#f0f921"
             ]
            ],
            "type": "surface"
           }
          ],
          "table": [
           {
            "cells": {
             "fill": {
              "color": "#EBF0F8"
             },
             "line": {
              "color": "white"
             }
            },
            "header": {
             "fill": {
              "color": "#C8D4E3"
             },
             "line": {
              "color": "white"
             }
            },
            "type": "table"
           }
          ]
         },
         "layout": {
          "annotationdefaults": {
           "arrowcolor": "#2a3f5f",
           "arrowhead": 0,
           "arrowwidth": 1
          },
          "autotypenumbers": "strict",
          "coloraxis": {
           "colorbar": {
            "outlinewidth": 0,
            "ticks": ""
           }
          },
          "colorscale": {
           "diverging": [
            [
             0,
             "#8e0152"
            ],
            [
             0.1,
             "#c51b7d"
            ],
            [
             0.2,
             "#de77ae"
            ],
            [
             0.3,
             "#f1b6da"
            ],
            [
             0.4,
             "#fde0ef"
            ],
            [
             0.5,
             "#f7f7f7"
            ],
            [
             0.6,
             "#e6f5d0"
            ],
            [
             0.7,
             "#b8e186"
            ],
            [
             0.8,
             "#7fbc41"
            ],
            [
             0.9,
             "#4d9221"
            ],
            [
             1,
             "#276419"
            ]
           ],
           "sequential": [
            [
             0,
             "#0d0887"
            ],
            [
             0.1111111111111111,
             "#46039f"
            ],
            [
             0.2222222222222222,
             "#7201a8"
            ],
            [
             0.3333333333333333,
             "#9c179e"
            ],
            [
             0.4444444444444444,
             "#bd3786"
            ],
            [
             0.5555555555555556,
             "#d8576b"
            ],
            [
             0.6666666666666666,
             "#ed7953"
            ],
            [
             0.7777777777777778,
             "#fb9f3a"
            ],
            [
             0.8888888888888888,
             "#fdca26"
            ],
            [
             1,
             "#f0f921"
            ]
           ],
           "sequentialminus": [
            [
             0,
             "#0d0887"
            ],
            [
             0.1111111111111111,
             "#46039f"
            ],
            [
             0.2222222222222222,
             "#7201a8"
            ],
            [
             0.3333333333333333,
             "#9c179e"
            ],
            [
             0.4444444444444444,
             "#bd3786"
            ],
            [
             0.5555555555555556,
             "#d8576b"
            ],
            [
             0.6666666666666666,
             "#ed7953"
            ],
            [
             0.7777777777777778,
             "#fb9f3a"
            ],
            [
             0.8888888888888888,
             "#fdca26"
            ],
            [
             1,
             "#f0f921"
            ]
           ]
          },
          "colorway": [
           "#636efa",
           "#EF553B",
           "#00cc96",
           "#ab63fa",
           "#FFA15A",
           "#19d3f3",
           "#FF6692",
           "#B6E880",
           "#FF97FF",
           "#FECB52"
          ],
          "font": {
           "color": "#2a3f5f"
          },
          "geo": {
           "bgcolor": "white",
           "lakecolor": "white",
           "landcolor": "#E5ECF6",
           "showlakes": true,
           "showland": true,
           "subunitcolor": "white"
          },
          "hoverlabel": {
           "align": "left"
          },
          "hovermode": "closest",
          "mapbox": {
           "style": "light"
          },
          "paper_bgcolor": "white",
          "plot_bgcolor": "#E5ECF6",
          "polar": {
           "angularaxis": {
            "gridcolor": "white",
            "linecolor": "white",
            "ticks": ""
           },
           "bgcolor": "#E5ECF6",
           "radialaxis": {
            "gridcolor": "white",
            "linecolor": "white",
            "ticks": ""
           }
          },
          "scene": {
           "xaxis": {
            "backgroundcolor": "#E5ECF6",
            "gridcolor": "white",
            "gridwidth": 2,
            "linecolor": "white",
            "showbackground": true,
            "ticks": "",
            "zerolinecolor": "white"
           },
           "yaxis": {
            "backgroundcolor": "#E5ECF6",
            "gridcolor": "white",
            "gridwidth": 2,
            "linecolor": "white",
            "showbackground": true,
            "ticks": "",
            "zerolinecolor": "white"
           },
           "zaxis": {
            "backgroundcolor": "#E5ECF6",
            "gridcolor": "white",
            "gridwidth": 2,
            "linecolor": "white",
            "showbackground": true,
            "ticks": "",
            "zerolinecolor": "white"
           }
          },
          "shapedefaults": {
           "line": {
            "color": "#2a3f5f"
           }
          },
          "ternary": {
           "aaxis": {
            "gridcolor": "white",
            "linecolor": "white",
            "ticks": ""
           },
           "baxis": {
            "gridcolor": "white",
            "linecolor": "white",
            "ticks": ""
           },
           "bgcolor": "#E5ECF6",
           "caxis": {
            "gridcolor": "white",
            "linecolor": "white",
            "ticks": ""
           }
          },
          "title": {
           "x": 0.05
          },
          "xaxis": {
           "automargin": true,
           "gridcolor": "white",
           "linecolor": "white",
           "ticks": "",
           "title": {
            "standoff": 15
           },
           "zerolinecolor": "white",
           "zerolinewidth": 2
          },
          "yaxis": {
           "automargin": true,
           "gridcolor": "white",
           "linecolor": "white",
           "ticks": "",
           "title": {
            "standoff": 15
           },
           "zerolinecolor": "white",
           "zerolinewidth": 2
          }
         }
        },
        "title": {
         "text": "Accuracy vs Epoch",
         "x": 0.5,
         "y": 0.85
        },
        "xaxis": {
         "title": {
          "text": "Epoch"
         }
        },
        "yaxis": {
         "title": {
          "text": "Accuracy"
         }
        }
       }
      }
     },
     "metadata": {},
     "output_type": "display_data"
    }
   ],
   "source": [
    "x = list(range(0, training_cfg[\"num_epochs\"], 1000))\n",
    "lines([train_losses, test_losses], x=x, labels=[\"Train Loss\", \"Test Loss\"], xaxis=\"Epoch\", yaxis=\"Loss\", title=\"Loss vs Epoch\", log_y=True)\n",
    "lines([train_accs, test_accs], x=x, labels=[\"Train Accuracy\", \"Test Accuracy\"], xaxis=\"Epoch\", yaxis=\"Accuracy\", title=\"Accuracy vs Epoch\")"
   ]
  },
  {
   "attachments": {},
   "cell_type": "markdown",
   "metadata": {},
   "source": [
    "# Interpretability"
   ]
  },
  {
   "attachments": {},
   "cell_type": "markdown",
   "metadata": {},
   "source": [
    "Now let's try to interpret the model. To do so, we need to know some things about representation theory. Let's first create a class to hold information about representations. It will share some attributes with the group class. We will subclass from this class to create a class for each representation.\n",
    "\n",
    "What information do we need, and how do we store it? \n",
    "\n",
    "Let $n$ be the order of group $G$. Each representation is a set $n$ $d \\times d$ matrices. We store this in our representation objects as tensors of shape $n \\times d^2$. \n",
    "\n",
    "We also compute what we call an 'orthogonal representation'. I'll explain why this is necessary later on.\n",
    "\n",
    "Finally we compute the characters $\\chi(abc^{-1})$ for each pair of inputs $a,b$ and output $c$. We store this in a tensor of shape $n \\times n \\times n$. This character tensor is used later to compute logit similarity."
   ]
  },
  {
   "attachments": {},
   "cell_type": "markdown",
   "metadata": {},
   "source": [
    "## Defining Representations"
   ]
  },
  {
   "cell_type": "code",
   "execution_count": 20,
   "metadata": {},
   "outputs": [],
   "source": [
    "class Representation():\n",
    "    \"\"\"\n",
    "    Base class for all representations.\n",
    "    \"\"\"\n",
    "\n",
    "    def __init__(self, compute_rep_params, index, order, multiplication_table, inverses, all_data, group_acronym, irrep=True):\n",
    "        \"\"\"\n",
    "        Initialise the symmetric group representation.\n",
    "\n",
    "        Args:\n",
    "            compute_rep_params (tuple): representation specific parameters required for computing the representation\n",
    "            index (int): group index in family\n",
    "            order (int): order of the group\n",
    "            multiplication_table (torch.tensor): square (group.order, group.order) tensor of group multiplication table \n",
    "            inverses (torch.tensor): vector of group inverses\n",
    "            all_data ()\n",
    "            irrep (Boolean)\n",
    "        \"\"\"\n",
    "\n",
    "        self.index = index\n",
    "        self.order = order\n",
    "        self.multiplication_table = multiplication_table\n",
    "        self.inverses = inverses\n",
    "        self.all_data = all_data\n",
    "        self.group_acronym = group_acronym\n",
    "\n",
    "        # TODO: this is needed to get the dimension of generated representations - think up a better way of doing this\n",
    "        self.compute_rep_params = compute_rep_params\n",
    "\n",
    "        self.dim = self.get_rep_dim()\n",
    "\n",
    "        self.rep = self.compute_rep(*compute_rep_params)\n",
    "\n",
    "        if irrep:\n",
    "            self.orth_rep = self.compute_orth_rep(self.rep)\n",
    "            if self.friendly_name != 'trivial':\n",
    "                self.logit_trace_tensor_cube = self.compute_logit_trace_tensor_cube()\n",
    "\n",
    "\n",
    "    def get_rep_dim(self):\n",
    "        return NotImplementedError\n",
    "\n",
    "    def compute_rep(self):\n",
    "        \"\"\"\n",
    "        Compute the representation. Must be implemented by child class.\n",
    "\n",
    "        Raises:\n",
    "            NotImplementedError\n",
    "        \"\"\"\n",
    "        raise NotImplementedError\n",
    "    \n",
    "    def compute_orth_rep(self, rep):\n",
    "        \"\"\"\n",
    "        Use QR decomposition to orthogonalise the representation but retain the subspace spanned by the columns. \n",
    "\n",
    "        Args:\n",
    "            rep (torch.tensor): (group.order, dim^2) tensor of representation\n",
    "\n",
    "        Returns:\n",
    "            torch.tensor: (group.order, dim^2) tensor with orthonormal columns en\n",
    "        \"\"\"\n",
    "        \n",
    "        orth_rep = rep.reshape(self.order, self.dim * self.dim)\n",
    "        orth_rep = torch.linalg.qr(orth_rep)[0]\n",
    "        return orth_rep\n",
    "\n",
    "\n",
    "    def compute_logit_trace_tensor_cube(self):\n",
    "        \"\"\"\n",
    "        Under the hypothesis, the network computes tr(\\rho(x)\\rho(y)\\rho(z^-1)) for some representation \\rho.\n",
    "        This function computes this trace tensor cube for a given representation\n",
    "        \n",
    "        Returns:\n",
    "            torch.tensor: (group.order^3) trace tensor cube\n",
    "        \"\"\"\n",
    "        print(f'Computing trace tensor cube for {self.friendly_name} representation')\n",
    "        filename = f'utils/cache/{self.group_acronym}{self.index}/{self.group_acronym}{self.index}_{self.friendly_name}_trace_tensor_cube.pt'\n",
    "        if os.path.exists(filename):\n",
    "            print('... loading from file')\n",
    "            t = torch.load(filename)\n",
    "            return t \n",
    "        N = self.all_data.shape[0]\n",
    "        t = torch.zeros((self.order*self.order, self.order), dtype=torch.float).cuda()\n",
    "        for i in tqdm(range(N)):\n",
    "            x = self.all_data[i, 0]\n",
    "            y = self.all_data[i, 1]\n",
    "            xy = self.multiplication_table[x, y]\n",
    "            for z_idx in range(self.order):\n",
    "                xyz = self.multiplication_table[xy, self.inverses[z_idx]]\n",
    "                t[i, z_idx] = torch.trace(self.rep[xyz])\n",
    "        t = t.reshape(self.order, self.order, self.order)\n",
    "        f = open(filename, 'wb')\n",
    "        torch.save(t, f)\n",
    "        return t "
   ]
  },
  {
   "attachments": {},
   "cell_type": "markdown",
   "metadata": {},
   "source": [
    "Now we construct all the irreducible representations of S5. One can find a full list [here](https://groupprops.subwiki.org/wiki/Linear_representation_theory_of_symmetric_group:S5). Feel free to skip over this construction if you're not interested in the details.\n",
    "\n",
    "First, the boring trivial reprsentation. This is one dimensional - that is $d=1$, and all the elements map to the matrix $[1]$. We pass information needed to compute and initialise the representation from the child class to the parent class via `compute_rep_params` and `init_rep_params`."
   ]
  },
  {
   "attachments": {},
   "cell_type": "markdown",
   "metadata": {},
   "source": [
    "### Constructing Irreps of S5\n"
   ]
  },
  {
   "cell_type": "code",
   "execution_count": 21,
   "metadata": {},
   "outputs": [],
   "source": [
    "class TrivialRepresentation(Representation):\n",
    "    \"\"\"\n",
    "    The trivial representation of the symmetric group.\n",
    "    \"\"\"\n",
    "    def __init__(self, compute_rep_params, init_rep_params):\n",
    "        \"\"\"\n",
    "        Initialise the trivial representation. \n",
    "\n",
    "        Args:\n",
    "            compute_rep_params (list): idx_to_perm function required to compute the representation\n",
    "            init_rep_params (dict): standard group parameters needed by the representation, including index, order, multiplication_table, inverses, all_data\n",
    "        \"\"\"\n",
    "        self.friendly_name = 'trivial'\n",
    "        super().__init__(compute_rep_params, **init_rep_params, irrep=True)\n",
    "    \n",
    "    def get_rep_dim(self):\n",
    "        \"\"\"\n",
    "        Get the dimension of the representation.\n",
    "\n",
    "        Returns:\n",
    "            int: dimension of the representation\n",
    "        \"\"\"\n",
    "        return 1\n",
    "\n",
    "    def compute_rep(self):\n",
    "        \"\"\"\n",
    "        Compute the trivial representation.\n",
    "\n",
    "        Args:\n",
    "            idx_to_perm (function): function to convert an index to a permutation\n",
    "\n",
    "        Returns:\n",
    "            torch.tensor: (group.order, 1) tensor of representation\n",
    "        \"\"\"\n",
    "        return torch.ones((self.order, 1, 1), dtype=torch.float).cuda()\n",
    "    \n",
    "\n",
    "# we need some data from the group to initialise representations\n",
    "rep_params = {\n",
    "            'index': group.index,\n",
    "            'order': group.order,\n",
    "            'multiplication_table': group.multiplication_table,\n",
    "            'inverses': group.inverses,\n",
    "            'all_data': group.all_data,\n",
    "            'group_acronym': group.acronym\n",
    "        }\n",
    "\n",
    "trivial_rep = TrivialRepresentation(compute_rep_params=[], init_rep_params=rep_params)"
   ]
  },
  {
   "attachments": {},
   "cell_type": "markdown",
   "metadata": {},
   "source": [
    "Next, the sign representation. This is also 1 dimensional, but the elements map to $[1]$ or $[-1]$ depending on whether the permutation is even or odd."
   ]
  },
  {
   "cell_type": "code",
   "execution_count": 22,
   "metadata": {},
   "outputs": [
    {
     "name": "stdout",
     "output_type": "stream",
     "text": [
      "Computing trace tensor cube for sign representation\n",
      "... loading from file\n"
     ]
    }
   ],
   "source": [
    "class SignRepresentation(Representation):\n",
    "    \"\"\"\n",
    "    Initialise the sign representation of the symmetric group.\n",
    "\n",
    "    \"\"\"\n",
    "    def __init__(self, compute_rep_params, init_rep_params):\n",
    "        \"\"\"\n",
    "        Initialise the sign representation. \n",
    "\n",
    "        Args:\n",
    "            compute_rep_params (list): list consisting of the signatures object required to compute the representation\n",
    "            init_rep_params (dict): standard group parameters needed by the representation, including index, order, multiplication_table, inverses, all_data\n",
    "        \"\"\"\n",
    "        self.friendly_name = 'sign'\n",
    "        super().__init__(compute_rep_params, **init_rep_params)\n",
    "\n",
    "    def get_rep_dim(self):\n",
    "        \"\"\"\n",
    "        Get the dimension of the representation.\n",
    "\n",
    "        Returns:\n",
    "            int: dimension of the representation\n",
    "        \"\"\"\n",
    "        return 1\n",
    "\n",
    "    def compute_rep(self, signatures):\n",
    "        \"\"\"\n",
    "        Compute the sign representation from the signatures.\n",
    "\n",
    "        Args:\n",
    "            signatures (torch.tensor): (group.order, 1) tensor of signatures\n",
    "\n",
    "        Returns:\n",
    "            torch.tensor: (group.order, 1, 1) tensor of sign representations\n",
    "        \"\"\"\n",
    "        rep = torch.zeros(self.order, 1, 1).cuda()\n",
    "        rep[:, 0, 0] = signatures\n",
    "        return rep\n",
    "\n",
    "sign_rep = SignRepresentation([group.signatures], rep_params)\n"
   ]
  },
  {
   "attachments": {},
   "cell_type": "markdown",
   "metadata": {},
   "source": [
    "Next, we construct the natural representation. This isn't actually an irreducible representation, but is easy to construct. We can later decompose it into a direct sum of the trivial representation and the `standard` representation. The natural representation itself is $d=5$, with group elements mapping naturally to the 5x5 [permutation matrices](https://en.wikipedia.org/wiki/Permutation_matrix) (with a 1 in each row and column, and 0s elsewhere)."
   ]
  },
  {
   "cell_type": "code",
   "execution_count": 23,
   "metadata": {},
   "outputs": [
    {
     "name": "stderr",
     "output_type": "stream",
     "text": [
      "/tmp/ipykernel_48175/3779721982.py:38: DeprecationWarning:\n",
      "\n",
      "an integer is required (got type numpy.float64).  Implicit conversion to integers using __int__ is deprecated, and may be removed in a future version of Python.\n",
      "\n"
     ]
    }
   ],
   "source": [
    "class NaturalRepresentation(Representation):\n",
    "    \"\"\"\n",
    "    Compute the natural representation of the symmetric group.\n",
    "    \"\"\"\n",
    "    def __init__(self, compute_rep_params, init_rep_params):\n",
    "        \"\"\"\n",
    "        Initialise the natural representation. \n",
    "\n",
    "        Args:\n",
    "            compute_rep_params (list): idx_to_perm function required to compute the representation\n",
    "            init_rep_params (dict): standard group parameters needed by the representation, including index, order, multiplication_table, inverses, all_data\n",
    "        \"\"\"\n",
    "        self.friendly_name = 'natural'\n",
    "        super().__init__(compute_rep_params, **init_rep_params, irrep=False)\n",
    "    \n",
    "    def get_rep_dim(self):\n",
    "        \"\"\"\n",
    "        Get the dimension of the representation.\n",
    "\n",
    "        Returns:\n",
    "            int: dimension of the representation\n",
    "        \"\"\"\n",
    "        return self.index\n",
    "\n",
    "    def compute_rep(self, idx_to_perm):\n",
    "        \"\"\"\n",
    "        Compute the natural representation by directly computing permutation matrices\n",
    "\n",
    "        Args:\n",
    "            idx_to_perm (function): Function that takes an index and returns the corresponding permutation object\n",
    "\n",
    "        Returns:\n",
    "            torch.tensor: (group.order, group.index, group.index) tensor of permutation matrices for each group element\n",
    "        \"\"\"\n",
    "        idx = list(np.linspace(0, self.index-1, self.index))\n",
    "        rep = torch.zeros(self.order, self.index, self.index).cuda()\n",
    "        for x in range(self.order):\n",
    "            rep[x, idx, idx_to_perm(x)(idx)] = 1\n",
    "        return rep\n",
    "\n",
    "natural_rep = NaturalRepresentation([group.idx_to_perm], rep_params)"
   ]
  },
  {
   "cell_type": "code",
   "execution_count": 24,
   "metadata": {},
   "outputs": [
    {
     "name": "stdout",
     "output_type": "stream",
     "text": [
      "Computing trace tensor cube for standard representation\n",
      "... loading from file\n"
     ]
    }
   ],
   "source": [
    "class StandardRepresentation(Representation):\n",
    "    \"\"\"\n",
    "    Generate the standard representation of the symmetric group.\n",
    "\n",
    "    \"\"\"\n",
    "    def __init__(self, compute_rep_params, init_rep_params):\n",
    "        \"\"\"\n",
    "        Initialise the standard representation. \n",
    "\n",
    "        Args:\n",
    "            compute_rep_params (list): list containing natural_reps object necessary to calculate the standard representation\n",
    "            init_rep_params (dict): standard group parameters needed by the representation, including index, order, multiplication_table, inverses, all_data\n",
    "        \"\"\"\n",
    "        self.friendly_name = 'standard'\n",
    "        super().__init__(compute_rep_params, **init_rep_params)\n",
    "\n",
    "    def get_rep_dim(self):\n",
    "        \"\"\"\n",
    "        Get the dimension of the representation.\n",
    "\n",
    "        Returns:\n",
    "            int: dimension of the representation\n",
    "        \"\"\"\n",
    "        return self.index-1\n",
    "    \n",
    "    def compute_rep(self, natural_reps):\n",
    "        \"\"\"\n",
    "        Compute the standard representation from the natural representation.\n",
    "\n",
    "        Args:\n",
    "            natural_reps (torch.tensor): (group.order, group.index, group.index) tensor of natural representations (permutation matrices)\n",
    "\n",
    "        Returns:\n",
    "            torch.tensor: (group.order, group.index-1, group.index-1) tensor of standard representations\n",
    "        \"\"\"\n",
    "        rep = []\n",
    "        basis_transform = torch.zeros(self.index, self.index).cuda()\n",
    "        for i in range(self.index-1):\n",
    "            basis_transform[i, i] = 1\n",
    "            basis_transform[i, i+1] = -1\n",
    "        basis_transform[self.index-1, self.index-1] = 1 #to make the transform non singular\n",
    "        for x in natural_reps:\n",
    "            temp = basis_transform @ x @ basis_transform.inverse()\n",
    "            rep.append(temp[:self.index-1, :self.index-1])\n",
    "        rep = torch.stack(rep, dim=0).cuda()\n",
    "        return rep  \n",
    "\n",
    "standard_rep = StandardRepresentation([natural_rep.rep], rep_params)\n"
   ]
  },
  {
   "cell_type": "code",
   "execution_count": 25,
   "metadata": {},
   "outputs": [
    {
     "name": "stdout",
     "output_type": "stream",
     "text": [
      "Computing trace tensor cube for standard_sign representation\n",
      "... loading from file\n"
     ]
    }
   ],
   "source": [
    "class StandardSignRepresentation(Representation):\n",
    "    def __init__(self, compute_rep_params, init_rep_params):\n",
    "        \"\"\"\n",
    "        Initialise the tensor product of the standard and sign representation. \n",
    "\n",
    "        Args:\n",
    "            compute_rep_params (list): list consisting of tensor of standard representation and signatures, required to compute the representation\n",
    "            init_rep_params (dict): standard group parameters needed by the representation, including index, order, multiplication_table, inverses, all_data\n",
    "        \"\"\"\n",
    "        self.friendly_name = 'standard_sign'\n",
    "        super().__init__(compute_rep_params, **init_rep_params)\n",
    "\n",
    "    def get_rep_dim(self):\n",
    "        \"\"\"\n",
    "        Get the dimension of the representation.\n",
    "\n",
    "        Returns:\n",
    "            int: dimension of the representation\n",
    "        \"\"\"\n",
    "        return self.index-1\n",
    "\n",
    "    def compute_rep(self, standard_reps, signatures):\n",
    "        \"\"\"\n",
    "        Compute the tensor product of the standard and sign representation.\n",
    "\n",
    "        Args:\n",
    "            standard_reps (torch.tensor): (group.order, group.index-1, group.index-1) tensor of standard representations\n",
    "            signatures (torch.tensor): (group.order, 1) tensor of signatures\n",
    "\n",
    "        Returns:\n",
    "            torch.tensor: (group.order, group.index-1, group.index-1) tensor of standard_sign representations\n",
    "        \"\"\"\n",
    "        rep = []\n",
    "        for i in range(standard_reps.shape[0]):\n",
    "            rep.append(signatures[i]*standard_reps[i])\n",
    "        rep = torch.stack(rep, dim=0).cuda()\n",
    "        return rep\n",
    "    \n",
    "standard_sign_rep = StandardSignRepresentation([standard_rep.rep, sign_rep.rep], rep_params)      "
   ]
  },
  {
   "cell_type": "code",
   "execution_count": 26,
   "metadata": {},
   "outputs": [
    {
     "name": "stdout",
     "output_type": "stream",
     "text": [
      "Computing trace tensor cube for s5_5d_a representation\n",
      "... loading from file\n",
      "Computing trace tensor cube for s5_5d_b representation\n",
      "... loading from file\n",
      "Computing trace tensor cube for s5_6d representation\n",
      "... loading from file\n"
     ]
    }
   ],
   "source": [
    "class SymmetricRepresentationFromGenerators(Representation):\n",
    "    def __init__(self, compute_rep_params, init_rep_params, name):\n",
    "        \"\"\"\n",
    "        Initialise a representation of the symmetric group from a set of generators.\n",
    "\n",
    "        Args:\n",
    "            compute_rep_params (list): list consisting of the generators of the representation, sympy group object, and a function that maps indices to permutations\n",
    "            init_rep_params (dict): standard group parameters needed by the representation, including index, order, multiplication_table, inverses, all_data\n",
    "            name (str): name of the representation\n",
    "        \"\"\"\n",
    "        self.friendly_name = name\n",
    "        super().__init__(compute_rep_params, **init_rep_params)\n",
    "\n",
    "    # TODO: make this less hacky\n",
    "    def get_rep_dim(self):\n",
    "        \"\"\"\n",
    "        Get the dimension of the representation.\n",
    "\n",
    "        Returns:\n",
    "            int: dimension of the representation\n",
    "        \"\"\"\n",
    "        return list(self.compute_rep_params[0].values())[0].shape[0] # hacky way to get the dimension of the representation\n",
    "\n",
    "    def compute_rep(self, generators, G, idx_to_perm):\n",
    "        \"\"\"\n",
    "        Compute the representation from the generators.\n",
    "\n",
    "        Args:\n",
    "            generators (dict): dictionary of generators of the group along with their representations\n",
    "            G (sympy group object): group object\n",
    "            idx_to_perm (function): function that maps indices to permutations\n",
    "\n",
    "        Returns:\n",
    "            torch.tensor: (group.order, dim, dim) tensor of arbitrary representations\n",
    "        \"\"\"\n",
    "        rep = torch.zeros(self.order, self.dim, self.dim).cuda()\n",
    "        for i in range(self.order):\n",
    "            generator_product = G.generator_product(idx_to_perm(i), original=True)\n",
    "            result = torch.eye(self.dim).float()\n",
    "            for g in generator_product:\n",
    "                result = result @ generators[g]\n",
    "            rep[i] = result\n",
    "        return rep.cuda()\n",
    "\n",
    "\n",
    "s5_5d_a_generators = {}\n",
    "s5_5d_a_generators[Permutation(0, 1, 2, 3, 4)] = torch.tensor([\n",
    "    [ 1, -1, -1,  1,  0],\n",
    "    [ 0, -1, -1,  0,  1],\n",
    "    [ 1, -1,  0,  0,  0],\n",
    "    [ 0, -1,  0,  0,  0],\n",
    "    [ 1, -1, -1,  0,  0]\n",
    "]).float()\n",
    "s5_5d_a_generators[Permutation(4, 3, 2, 1, 0)] = s5_5d_a_generators[Permutation(0, 1, 2, 3, 4)].inverse()\n",
    "s5_5d_a_generators[Permutation(4)(0,1)] = torch.tensor([\n",
    "    [ 0,  0, -1,  0,  0],\n",
    "    [ 0,  0,  0, -1,  0],\n",
    "    [-1,  0,  0,  0,  0],\n",
    "    [ 0, -1,  0,  0,  0],\n",
    "    [ 0,  0,  0,  0, -1]\n",
    "]).float()\n",
    "s5_5d_a_rep = SymmetricRepresentationFromGenerators([s5_5d_a_generators, group.G, group.idx_to_perm], rep_params, 's5_5d_a')\n",
    "\n",
    "# 3,2 specht\n",
    "s5_5d_b_generators = {}\n",
    "s5_5d_b_generators[Permutation(0, 1, 2, 3, 4)] = torch.tensor([\n",
    "    [-1,  1, -1,  0,  0],\n",
    "    [ 0,  0,  0,  1, -1],\n",
    "    [ 0,  0,  1,  0, -1],\n",
    "    [ 1,  0,  0,  0,  0],\n",
    "    [ 1,  0,  1,  0,  0]\n",
    "]).float()\n",
    "s5_5d_b_generators[Permutation(4, 3, 2, 1, 0)] = s5_5d_b_generators[Permutation(0, 1, 2, 3, 4)].inverse()\n",
    "s5_5d_b_generators[Permutation(4)(0,1)] = torch.tensor([\n",
    "    [ 1,  0,  0,  0,  0],\n",
    "    [ 0,  0,  0, -1,  0],\n",
    "    [-1,  0,  0,  0, -1],\n",
    "    [ 0, -1,  0,  0,  0],\n",
    "    [-1,  0, -1,  0,  0]\n",
    "]).float()\n",
    "s5_5d_b_rep = SymmetricRepresentationFromGenerators([s5_5d_b_generators, group.G, group.idx_to_perm], rep_params, 's5_5d_b')\n",
    "\n",
    "# 3,1,1 specht\n",
    "s5_6d_generators = {}\n",
    "s5_6d_generators[Permutation(0, 1, 2, 3, 4)] = torch.tensor([\n",
    "    [ 1, -1,  1,  0,  0,  0],\n",
    "    [ 1,  0,  0, -1,  1,  0],\n",
    "    [ 0,  1,  0, -1,  0,  1],\n",
    "    [ 1,  0,  0,  0,  0,  0],\n",
    "    [ 0,  1,  0,  0,  0,  0],\n",
    "    [ 0,  0,  0,  1,  0,  0]\n",
    "]).float()\n",
    "s5_6d_generators[Permutation(4, 3, 2, 1, 0)] = s5_6d_generators[Permutation(0, 1, 2, 3, 4)].inverse()\n",
    "s5_6d_generators[Permutation(4)(0,1)] = torch.tensor([\n",
    "    [-1,  0,  0,  0,  0,  0],\n",
    "    [ 0,  0,  0, -1,  0,  0],\n",
    "    [ 0,  0,  0,  0, -1,  0],\n",
    "    [ 0, -1,  0,  0,  0,  0],\n",
    "    [ 0,  0, -1,  0,  0,  0],\n",
    "    [ 0,  0,  0,  0,  0,  1]\n",
    "]).float()\n",
    "s5_6d_rep = SymmetricRepresentationFromGenerators([s5_6d_generators, group.G, group.idx_to_perm], rep_params, 's5_6d')\n"
   ]
  },
  {
   "cell_type": "code",
   "execution_count": 27,
   "metadata": {},
   "outputs": [],
   "source": [
    "group.irreps = {\n",
    "    'trivial': trivial_rep,\n",
    "    'sign': sign_rep,\n",
    "    'standard': standard_rep,\n",
    "    'standard_sign': standard_sign_rep,\n",
    "    's5_5d_a': s5_5d_a_rep,\n",
    "    's5_5d_b': s5_5d_b_rep,\n",
    "    's5_6d': s5_6d_rep\n",
    "}"
   ]
  },
  {
   "attachments": {},
   "cell_type": "markdown",
   "metadata": {},
   "source": [
    "Now we have all our representations loaded, let's inspect them..."
   ]
  },
  {
   "attachments": {},
   "cell_type": "markdown",
   "metadata": {},
   "source": []
  }
 ],
 "metadata": {
  "kernelspec": {
   "display_name": "venv",
   "language": "python",
   "name": "python3"
  },
  "language_info": {
   "codemirror_mode": {
    "name": "ipython",
    "version": 3
   },
   "file_extension": ".py",
   "mimetype": "text/x-python",
   "name": "python",
   "nbconvert_exporter": "python",
   "pygments_lexer": "ipython3",
   "version": "3.8.10"
  },
  "orig_nbformat": 4
 },
 "nbformat": 4,
 "nbformat_minor": 2
}
