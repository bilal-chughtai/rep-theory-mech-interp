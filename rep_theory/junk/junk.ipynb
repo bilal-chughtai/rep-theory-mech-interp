{
 "cells": [
  {
   "cell_type": "code",
   "execution_count": 2,
   "metadata": {},
   "outputs": [
    {
     "name": "stdout",
     "output_type": "stream",
     "text": [
      "tensor([-2.3333, -0.3333,  2.6667])\n",
      "tensor([-2.3333, -0.3333,  2.6667])\n"
     ]
    }
   ],
   "source": [
    "import torch\n",
    "v1 = torch.tensor([0,2,5]).float()\n",
    "v2 = torch.tensor([2,4,7]).float()\n",
    "print(v1-v1.mean())\n",
    "print(v2-v2.mean())\n"
   ]
  },
  {
   "cell_type": "code",
   "execution_count": 1,
   "metadata": {},
   "outputs": [
    {
     "data": {
      "text/plain": [
       "{'epochs': 1000,\n",
       " 'model': 'Transformer',\n",
       " 'group': 'SymmetricGroup',\n",
       " 'group_parameter': 6,\n",
       " 'frac_train': 0.4}"
      ]
     },
     "execution_count": 1,
     "metadata": {},
     "output_type": "execute_result"
    }
   ],
   "source": [
    "#5: S6, Transformer, various seeds\n",
    "base_cfg = {\"epochs\": 100}\n",
    "\n",
    "cfg = {\n",
    "    \"model\": \"Transformer\",\n",
    "    \"group\": \"SymmetricGroup\",\n",
    "    \"group_parameter\": 6,\n",
    "    \"frac_train\" : 0.4, \n",
    "    \"epochs\": 1000\n",
    "}\n",
    "\n",
    "experiment_cfg = {**base_cfg, **cfg}\n",
    "experiment_cfg"
   ]
  },
  {
   "cell_type": "code",
   "execution_count": 1,
   "metadata": {},
   "outputs": [
    {
     "name": "stdout",
     "output_type": "stream",
     "text": [
      "percent_x_embed_trivial_rep 2.7415098884375766e-05\n",
      "percent_x_embed_sign_rep 9.369779036205728e-06\n",
      "percent_x_embed_freq_1_rep 0.14376318454742432\n",
      "percent_x_embed_freq_2_rep 8.091874769888818e-05\n",
      "percent_x_embed_freq_3_rep 0.0007609151070937514\n",
      "percent_x_embed_freq_4_rep 1.8196147721027955e-05\n",
      "percent_x_embed_freq_5_rep 0.00020351946295704693\n",
      "percent_x_embed_freq_6_rep 2.604256951599382e-05\n",
      "percent_x_embed_freq_7_rep 0.00038674549432471395\n",
      "percent_x_embed_freq_8_rep 1.945015901583247e-05\n",
      "percent_x_embed_freq_9_rep 3.0170087484293617e-05\n",
      "percent_x_embed_freq_10_rep 9.817711543291807e-06\n",
      "percent_x_embed_freq_11_rep 3.256629133829847e-05\n",
      "percent_x_embed_freq_12_rep 0.1269906759262085\n",
      "percent_x_embed_freq_13_rep 5.2154740842524916e-05\n",
      "percent_x_embed_freq_14_rep 1.2422473446349613e-05\n",
      "percent_x_embed_freq_15_rep 2.07438843062846e-05\n",
      "percent_x_embed_freq_16_rep 3.8044854591134936e-05\n",
      "percent_x_embed_freq_17_rep 0.000724479032214731\n",
      "percent_x_embed_freq_18_rep 2.1049174392828718e-05\n",
      "percent_x_embed_freq_19_rep 3.131450284854509e-05\n",
      "percent_x_embed_freq_20_rep 9.527208021609113e-06\n",
      "percent_x_embed_freq_21_rep 0.07977034151554108\n",
      "percent_x_embed_freq_22_rep 2.0329647668404505e-05\n",
      "percent_x_embed_freq_23_rep 0.08292470872402191\n",
      "percent_x_embed_freq_24_rep 1.6395362763432786e-05\n",
      "percent_x_embed_freq_25_rep 0.0003455088590271771\n",
      "percent_x_embed_freq_26_rep 2.068465983029455e-05\n",
      "percent_x_embed_freq_27_rep 0.060193199664354324\n",
      "percent_x_embed_freq_28_rep 2.1286521587171592e-05\n",
      "percent_x_embed_freq_29_rep 3.565528095350601e-05\n",
      "percent_x_embed_freq_30_rep 1.6150852388818748e-05\n",
      "percent_x_embed_freq_31_rep 0.15574303269386292\n",
      "percent_x_embed_freq_32_rep 1.1004662155755796e-05\n",
      "percent_x_embed_freq_33_rep 4.92372564622201e-05\n",
      "percent_x_embed_freq_34_rep 2.0019575458718464e-05\n",
      "percent_x_embed_freq_35_rep 1.6633824998280033e-05\n",
      "percent_x_embed_freq_36_rep 0.00030662628705613315\n",
      "percent_x_embed_freq_37_rep 0.13641206920146942\n",
      "percent_x_embed_freq_38_rep 1.8217766410089098e-05\n",
      "percent_x_embed_freq_39_rep 3.8816597225377336e-05\n",
      "percent_x_embed_freq_40_rep 0.1415228247642517\n",
      "percent_x_embed_freq_41_rep 2.69734828179935e-05\n",
      "percent_x_embed_freq_42_rep 1.5287299902411178e-05\n",
      "percent_x_embed_freq_43_rep 6.486454367404804e-05\n",
      "percent_x_embed_freq_44_rep 3.7789097405038774e-05\n",
      "percent_x_embed_freq_45_rep 0.06727878749370575\n",
      "percent_x_embed_freq_46_rep 1.9332070223754272e-05\n",
      "percent_x_embed_freq_47_rep 7.512053707614541e-05\n",
      "percent_x_embed_freq_48_rep 2.041234984062612e-05\n",
      "percent_x_embed_freq_49_rep 0.0006716695497743785\n",
      "percent_x_embed_freq_50_rep 1.8270524378749542e-05\n",
      "percent_x_embed_freq_51_rep 0.00016015353321563452\n",
      "percent_x_embed_freq_52_rep 1.500720827607438e-05\n",
      "percent_x_embed_freq_53_rep 1.9811652236967348e-05\n",
      "percent_x_embed_freq_54_rep 1.808943852665834e-05\n",
      "percent_x_embed_freq_55_rep 0.00045031780609861016\n",
      "percent_x_embed_freq_56_rep 1.9827344658551738e-05\n",
      "percent_x_embed_freq_57_rep 3.149341500829905e-05\n",
      "percent_x_embed_freq_58_rep 0.00028533092699944973\n",
      "1.0000000049922164\n"
     ]
    }
   ],
   "source": [
    "import sys\n",
    "sys.path.append('../')\n",
    "path = '../experiments/1L_MLP_C118/summary_metrics.json'\n",
    "import json\n",
    "from utils.plotting import *\n",
    "summary_metrics = json.load(open(path, 'r'))\n",
    "total = 0\n",
    "logits = []\n",
    "for key in summary_metrics.keys():\n",
    "    if 'percent_x_embed' in key:\n",
    "        print(key, summary_metrics[key])\n",
    "        total += summary_metrics[key]\n",
    "print(total)\n"
   ]
  },
  {
   "cell_type": "code",
   "execution_count": 8,
   "metadata": {},
   "outputs": [],
   "source": [
    "from sympy.combinatorics.named_groups import AlternatingGroup, PermutationGroup, SymmetricGroup\n",
    "from sympy.combinatorics import Permutation\n",
    "p1 = Permutation(0, 1, 2, 3, 4)\n",
    "p2 = Permutation(1,2)(3,4)\n",
    "p3 = Permutation(1, 0, 2, 3, 4)\n",
    "p4 = Permutation(0,2)(3,4)\n",
    "A = PermutationGroup(p1, p2)\n",
    "A5_v2 = PermutationGroup(p3, p4)\n",
    "A.generators\n",
    "A.order()\n",
    "S = SymmetricGroup(5)\n",
    "A_elements = A._elements\n",
    "S_elements = S._elements\n",
    "\n",
    "#create a dict mapping each element of A to its index in S\n",
    "A_to_S = {}\n",
    "for i, a in enumerate(A_elements):\n",
    "    for j, s in enumerate(S_elements):\n",
    "        if a == s:\n",
    "            A_to_S[i] = j\n",
    "            break\n"
   ]
  },
  {
   "cell_type": "code",
   "execution_count": 9,
   "metadata": {},
   "outputs": [
    {
     "data": {
      "text/plain": [
       "60"
      ]
     },
     "execution_count": 9,
     "metadata": {},
     "output_type": "execute_result"
    }
   ],
   "source": [
    "len(A_elements)"
   ]
  },
  {
   "cell_type": "code",
   "execution_count": 10,
   "metadata": {},
   "outputs": [
    {
     "data": {
      "text/plain": [
       "[Permutation(4),\n",
       " Permutation(4)(0, 1)(2, 3),\n",
       " Permutation(0, 2, 3, 4, 1),\n",
       " Permutation(0, 3, 1, 2, 4),\n",
       " Permutation(0, 4, 2, 1, 3),\n",
       " Permutation(1, 2, 4),\n",
       " Permutation(0, 1, 3, 2, 4),\n",
       " Permutation(0, 2, 1, 3, 4),\n",
       " Permutation(0, 3, 1, 4, 2),\n",
       " Permutation(0, 4, 3),\n",
       " Permutation(4)(1, 3, 2),\n",
       " Permutation(4)(0, 1, 2),\n",
       " Permutation(0, 2)(1, 4),\n",
       " Permutation(0, 3, 4),\n",
       " Permutation(0, 4, 2, 3, 1),\n",
       " Permutation(1, 4, 2),\n",
       " Permutation(0, 1, 4, 3, 2),\n",
       " Permutation(0, 2)(3, 4),\n",
       " Permutation(4)(0, 3, 1),\n",
       " Permutation(0, 4, 1, 2, 3),\n",
       " Permutation(2, 3, 4),\n",
       " Permutation(0, 1)(3, 4),\n",
       " Permutation(0, 2, 4, 3, 1),\n",
       " Permutation(4)(0, 3)(1, 2),\n",
       " Permutation(0, 4, 1, 3, 2),\n",
       " Permutation(4)(1, 2, 3),\n",
       " Permutation(4)(0, 1, 3),\n",
       " Permutation(0, 2, 4, 1, 3),\n",
       " Permutation(0, 3, 2, 1, 4),\n",
       " Permutation(0, 4, 2),\n",
       " Permutation(1, 3, 4),\n",
       " Permutation(0, 1, 2, 3, 4),\n",
       " Permutation(0, 2, 3, 1, 4),\n",
       " Permutation(0, 3)(2, 4),\n",
       " Permutation(0, 4, 3, 2, 1),\n",
       " Permutation(1, 4)(2, 3),\n",
       " Permutation(0, 1, 4),\n",
       " Permutation(0, 2, 4),\n",
       " Permutation(0, 3, 4, 2, 1),\n",
       " Permutation(0, 4, 3, 1, 2),\n",
       " Permutation(2, 4, 3),\n",
       " Permutation(0, 1)(2, 4),\n",
       " Permutation(4)(0, 2, 1),\n",
       " Permutation(0, 3, 4, 1, 2),\n",
       " Permutation(0, 4)(1, 3),\n",
       " Permutation(1, 2)(3, 4),\n",
       " Permutation(0, 1, 3, 4, 2),\n",
       " Permutation(4)(0, 2)(1, 3),\n",
       " Permutation(0, 3)(1, 4),\n",
       " Permutation(0, 4)(2, 3),\n",
       " Permutation(1, 3)(2, 4),\n",
       " Permutation(0, 1, 2, 4, 3),\n",
       " Permutation(0, 2, 1, 4, 3),\n",
       " Permutation(4)(0, 3, 2),\n",
       " Permutation(0, 4, 1),\n",
       " Permutation(1, 4, 3),\n",
       " Permutation(0, 1, 4, 2, 3),\n",
       " Permutation(4)(0, 2, 3),\n",
       " Permutation(0, 3, 2, 4, 1),\n",
       " Permutation(0, 4)(1, 2)]"
      ]
     },
     "execution_count": 10,
     "metadata": {},
     "output_type": "execute_result"
    }
   ],
   "source": [
    "A5_v2._elements"
   ]
  },
  {
   "cell_type": "code",
   "execution_count": 15,
   "metadata": {},
   "outputs": [
    {
     "name": "stdout",
     "output_type": "stream",
     "text": [
      "[[ 0.6685713   0.25604275  0.69817944]\n",
      " [ 0.25604275  0.80219609 -0.53937328]\n",
      " [-0.69817944  0.53937328  0.47076739]]\n"
     ]
    }
   ],
   "source": [
    "from scipy.spatial.transform import Rotation as R\n",
    "a = np.sqrt(8/(5+np.sqrt(5)))\n",
    "p = 2*np.pi/5\n",
    "\n",
    "rot = R.from_rotvec(2*np.pi/5 * a*np.array([1/2, (1+np.sqrt(5))/5, 0]))\n",
    "print(rot.as_matrix())"
   ]
  },
  {
   "cell_type": "code",
   "execution_count": 21,
   "metadata": {},
   "outputs": [
    {
     "name": "stdout",
     "output_type": "stream",
     "text": [
      "[Permutation(0, 1, 2, 3, 4), Permutation(1, 2)(3, 4)]\n",
      "[Permutation(0, 2, 3, 4, 1), Permutation(0, 2)(3, 4)]\n"
     ]
    },
    {
     "ename": "ValueError",
     "evalue": "The given images do not define a homomorphism",
     "output_type": "error",
     "traceback": [
      "\u001b[0;31m---------------------------------------------------------------------------\u001b[0m",
      "\u001b[0;31mValueError\u001b[0m                                Traceback (most recent call last)",
      "Cell \u001b[0;32mIn [21], line 10\u001b[0m\n\u001b[1;32m      8\u001b[0m \u001b[39mprint\u001b[39m(A\u001b[39m.\u001b[39mgenerators)\n\u001b[1;32m      9\u001b[0m \u001b[39mprint\u001b[39m(A5_v2\u001b[39m.\u001b[39mgenerators)\n\u001b[0;32m---> 10\u001b[0m tau \u001b[39m=\u001b[39m homomorphism(A, A5_v2, A\u001b[39m.\u001b[39;49mgenerators, A5_v2\u001b[39m.\u001b[39;49mgenerators)\n",
      "File \u001b[0;32m~/mechanistic-interpretability/venv/lib/python3.8/site-packages/sympy/combinatorics/homomorphisms.py:307\u001b[0m, in \u001b[0;36mhomomorphism\u001b[0;34m(domain, codomain, gens, images, check)\u001b[0m\n\u001b[1;32m    304\u001b[0m images \u001b[39m=\u001b[39m \u001b[39mdict\u001b[39m(\u001b[39mzip\u001b[39m(gens,images))\n\u001b[1;32m    306\u001b[0m \u001b[39mif\u001b[39;00m check \u001b[39mand\u001b[39;00m \u001b[39mnot\u001b[39;00m _check_homomorphism(domain, codomain, images):\n\u001b[0;32m--> 307\u001b[0m     \u001b[39mraise\u001b[39;00m \u001b[39mValueError\u001b[39;00m(\u001b[39m\"\u001b[39m\u001b[39mThe given images do not define a homomorphism\u001b[39m\u001b[39m\"\u001b[39m)\n\u001b[1;32m    308\u001b[0m \u001b[39mreturn\u001b[39;00m GroupHomomorphism(domain, codomain, images)\n",
      "\u001b[0;31mValueError\u001b[0m: The given images do not define a homomorphism"
     ]
    }
   ],
   "source": [
    "from sympy.combinatorics.homomorphisms import homomorphism\n",
    "p1 = Permutation(0, 1, 2, 3, 4)\n",
    "p2 = Permutation(1,2)(3,4)\n",
    "p3 = Permutation(1, 0, 2, 3, 4)\n",
    "p4 = Permutation(0,2)(3,4)\n",
    "A = PermutationGroup(p1, p2)\n",
    "A5_v2 = PermutationGroup(p3, p4)\n",
    "print(A.generators)\n",
    "print(A5_v2.generators)\n",
    "tau = homomorphism(A, A5_v2, A.generators, A5_v2.generators)"
   ]
  }
 ],
 "metadata": {
  "kernelspec": {
   "display_name": "Python 3.8.10 ('venv': venv)",
   "language": "python",
   "name": "python3"
  },
  "language_info": {
   "codemirror_mode": {
    "name": "ipython",
    "version": 3
   },
   "file_extension": ".py",
   "mimetype": "text/x-python",
   "name": "python",
   "nbconvert_exporter": "python",
   "pygments_lexer": "ipython3",
   "version": "3.8.10"
  },
  "orig_nbformat": 4,
  "vscode": {
   "interpreter": {
    "hash": "2132269f5a2133219c4d2300f20c817fe4655a4b6c81d581573bf57d15b76d41"
   }
  }
 },
 "nbformat": 4,
 "nbformat_minor": 2
}
